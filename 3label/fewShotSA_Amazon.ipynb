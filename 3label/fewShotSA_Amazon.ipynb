{
 "cells": [
  {
   "cell_type": "code",
   "execution_count": null,
   "id": "42c9951f-de7d-422b-823e-751ce2257bdb",
   "metadata": {},
   "outputs": [],
   "source": [
    "import os\n",
    "from groq import Groq\n",
    "import pandas as pd\n",
    "import numpy as np"
   ]
  },
  {
   "cell_type": "code",
   "execution_count": null,
   "id": "f2ddda98-7f34-41d2-b798-6f46879c2585",
   "metadata": {},
   "outputs": [],
   "source": [
    "apiKey = \"fill_it_here\""
   ]
  },
  {
   "cell_type": "code",
   "execution_count": null,
   "id": "77994b44-478a-4729-8611-3b77a25ee5f5",
   "metadata": {},
   "outputs": [],
   "source": [
    "client = Groq(\n",
    "    # api_key=os.environ.get(\"GROQ_API_KEY\"),\n",
    "    api_key= apiKey,\n",
    ")"
   ]
  },
  {
   "cell_type": "code",
   "execution_count": null,
   "id": "8bd4c777-0b4d-45c5-b3c6-bbf91516f52f",
   "metadata": {},
   "outputs": [],
   "source": [
    "dataset = pd.read_csv(\"test3label/AmazonRO_3_2700.csv\")"
   ]
  },
  {
   "cell_type": "code",
   "execution_count": null,
   "id": "8a4028ed-14ea-4b0d-a715-d6b5876b5e71",
   "metadata": {
    "scrolled": true
   },
   "outputs": [],
   "source": [
    "dataset"
   ]
  },
  {
   "cell_type": "code",
   "execution_count": null,
   "id": "687fd768-775b-4a8b-b5a6-84689845ccad",
   "metadata": {},
   "outputs": [],
   "source": [
    "score_counts_balanced = dataset['scoreSA'].value_counts().sort_index()\n",
    "print(score_counts_balanced)"
   ]
  },
  {
   "cell_type": "code",
   "execution_count": null,
   "id": "5f1962b3-0b01-4d1c-bde1-511050e8b755",
   "metadata": {},
   "outputs": [],
   "source": [
    "train_data = dataset[['content', 'scoreSA']]\n",
    "train_data['row_number'] = train_data.index"
   ]
  },
  {
   "cell_type": "code",
   "execution_count": null,
   "id": "fba2c8a6-58a8-474a-ae0d-2063b78becc5",
   "metadata": {},
   "outputs": [],
   "source": [
    "train_data"
   ]
  },
  {
   "cell_type": "code",
   "execution_count": null,
   "id": "830178eb-0a18-4663-a59d-1788f6631607",
   "metadata": {
    "scrolled": true
   },
   "outputs": [],
   "source": [
    "list = []\n",
    "i = 0\n",
    "for index, row in train_data.iterrows():\n",
    "    text = row['content']\n",
    "    chat_completion = client.chat.completions.create(\n",
    "        messages = [\n",
    "            {\n",
    "                \"role\": \"user\",\n",
    "                \"content\": f\"\"\"I need you to analyze the sentiment of the following text and classify it into one of the five categories: 1 - negative, 2 - neutral, or 3 - positive. Here are some examples to help you understand the classification:\n",
    "\n",
    "\n",
    "                1. \"Not sure why Amazon thinks it's OK to hijack my long press menu to add their stupid search icon there with no option to remove it. Oh well, now I have one less app taking up space on my phone.\" => 1\n",
    "\n",
    "                2. \"The absurd experience I've had with Amazon over these past 2 weeks is nothing short of horrendous. I'm all for employing foreign people to deal with customer service but if they themselves are unable to properly handle serious issues what is the point. I have had to spend hours in my bank getting my card changed all so I can make my purchases and your agent has me remove and re-add it only for it to not be accepted then they transfer me 5 times and ask me the same stupid questions\" => 1\n",
    "\n",
    "                3. \"terrible customer service, and they WILL send you broken and or defective products, or nothing at all! prime sucks, they treat you like trash weather you are a prime member who has spent thousands of dollars, or someone whos never spent a dime. seriously, go to the store yourself. amazon corps should be dismantled.\" => 1\n",
    "\n",
    "                4. \"Too slow, i honestly don't know what happened after the new update it got too laggy, the app started crashing and it became a pain to shop from the app\" => 1\n",
    "                \n",
    "                5. \"Latest app version is unreasonably buggy, especially with friend wish lists. They work fine directly from the website, but why have an app if we're constantly being forced back to the website due to flakes in the app. Google's inability (intent?) to play well with Kindle does make me wonder about the rest of the Amazon.\" => 1\n",
    "                \n",
    "                6. \"Please give an option to choose the new or the classic wish list interface. The new interface is completely unhelpful and only adds more clicks/taps to get to where I really want to be. Not to mention, for privacy reasons maybe one doesn't want *everything* appearing on the landing page.\" => 2\n",
    "\n",
    "                7. \"its okay. can you please bring back the ability to remove suggestions im not interested in. please allow me to either delete older purchases or make sure i stop being advertised stuff i absolutely do not want\" => 2\n",
    "\n",
    "                8. \"It could be better but it is good. I think when you want to move some items from one folder to another I wish you could select more than one item at a time to move at once.\" => 2\n",
    "\n",
    "                9. \"Really like using this app as a disabled person it helps me get things that I can't get out to get. Lately though it's been crashing every time I go on, hopefully this is resolved soon.\" => 2\n",
    "\n",
    "                10. \"The app is good and does the job. There is though no control on the fake reviews for products. The app also does not control any fake products. Unfortunately buyers trust the app and end up buying fake products.\" => 2\n",
    "                \n",
    "                11. \"So much choice. Great prices. Sometimes returns options are limited, but most sellers and Amazon are generally great at offering flexibility. Be wary of the default being to add a delivery charge for fast delivery and never ending offers of Prime!\" => 3\n",
    "\n",
    "                12. \"Great place for wide range of products at the best prices. my only issue is the amount of time it takes to receive a refund. if not for the wait time would have been 5 starts. customer service not great but better than a lot of others that I have come across.\" => 3\n",
    "                \n",
    "                13. \"I wouldn't have survived without Amazon. I am so grateful to them for their caring, first class service\" => 3\n",
    "                \n",
    "                14. \"IT'S WONDERFUL SUPER MARKET IN ALL OF THE WORLD\" => 3\n",
    "                \n",
    "                15. \"Amazon made it possible for me to finally fulfill my lifelong dream of becoming a hermit. good bye crowd, I'm digging it, and bugging out. thank you Amazon\" => 3\n",
    "                \n",
    "                Please provide the sentiment classification as a single number (1, 2, or 3) and nothing more.\n",
    "\n",
    "\n",
    "                Text: \"{text}\"\n",
    "                \"\"\"\n",
    "            }\n",
    "        ],\n",
    "        model=\"llama3-8b-8192\",\n",
    "        # model=\"mixtral-8x7b-32768\",\n",
    "    )\n",
    "    armaz = chat_completion.choices[0].message.content\n",
    "    print(f'Índice {index}:\\t{armaz}')\n",
    "    list.append(armaz)\n",
    "    i = i+1"
   ]
  },
  {
   "cell_type": "code",
   "execution_count": null,
   "id": "d68f571c",
   "metadata": {},
   "outputs": [],
   "source": [
    "len(list)"
   ]
  },
  {
   "cell_type": "code",
   "execution_count": null,
   "id": "31e97eda",
   "metadata": {
    "scrolled": true
   },
   "outputs": [],
   "source": [
    "rest = train_data[len(list):]\n",
    "for index, row in rest.iterrows():\n",
    "    text = row['content']\n",
    "    chat_completion = client.chat.completions.create(\n",
    "        messages = [\n",
    "            {\n",
    "                \"role\": \"user\",\n",
    "                \"content\": f\"\"\"I need you to analyze the sentiment of the following text and classify it into one of the five categories: 1 - negative, 2 - neutral, or 3 - positive. Here are some examples to help you understand the classification:\n",
    "\n",
    "\n",
    "                1. \"I hate this App I tried it and tried it and tried it again but this app is not working what you doing now are you all updated it what is the problem is not even working.i even signed in it still did not show anything I am really annoyed pls try to fix it pls😠😠\" => 1\n",
    "                \n",
    "                2. \"Very bad. I think I got traumatised mentally physically. I don't think I can ever recover from This application causing me so much heartache from their bad bad shows and how bad their app is bad bad bad bad bad👎\" => 1\n",
    "                \n",
    "                3. \"I don't like the new mobile interface. I rate this app because I don't like the new interface, the old interface is already good, change is good but make sure that the interface update is more useful than this new one\" => 1\n",
    "                \n",
    "                4. \"Good app but it's really annoying with the new Netflix household app. My dad owns the account, we both have two different houses and use different wifi networks on the same property, our houses are maybe a few thousand feet apart. And now I can't use Netflix without making another account, which we don't have the money for.\" => 1\n",
    "                                \n",
    "                5. \"Netflix always cancels a series. Why begin watching something that will be canceled? Netflix is such a disappointment. I only watch series on HBO and Amazon Prime at the moment.\" => 1\n",
    "                                                \n",
    "                6. \"Usually very good. There have been a few disappointments with some of your series. Overall I am happy with Netflix.\" => 2\n",
    "\n",
    "                7. \"The app is amazing and awesome!,but the new look is really disturbing to the eyes and once it freezes there's gonna be a big problem.Apart from that the app is wonderful.\" => 2\n",
    "                \n",
    "                8. \"Netflix just has too much space and all the apps I have are Snapchat, YouTube, and Netflix. No games. Plus Netflix keeps on doing a weird thing where I'm watching the episode and then it just goes straight to the next episode, to any of the Netflix staff members, please fix this issue, overall though I love it how I don't have to watch ads, so I'm rating it a 3 because it's not bad neither good, I hope that this was helpful to people that want to get Netflix :')\" => 2\n",
    "                \n",
    "                9. \"Ok not Fantastic mostly got it for Seinfeld which is the all time best Comedy.theres most made for TV shows. Not many Movies.No James Bond or classic Westerns. They used to show Rawhide and Rockford Files and some very entertaining independent Films. I also like Comedies with Bill Murray and Steve Martin and Chevy Chase you don't see their movies either. One thing they have on here I do enjoy is the Breaking Bad franchise and Bill Pullman Detective Series. For most part they don't show much new.\" => 2\n",
    "              \n",
    "                10. \"The app is amazing and awesome!,but the new look is really disturbing to the eyes and once it freezes there's gonna be a big problem.Apart from that the app is wonderful.\" => 2\n",
    "\n",
    "                11. \"In the Netflix app, you guys have a list of things that are \"Coming Soon\" etc. I think you should also have a list of series/movies that you'll be removing from the app or some kind of notification. THAT WILL BE GREAT IF IT HAPPENS.\" => 3\n",
    "                \n",
    "                12. \"1. Excellent, but upload more movies, series and episodes. 2. Put the video in super HD quality to enjoy watching. 3. Fixed the screen for samsung galaxy s23 ultra, to make it in full screen. 4. More setting for this apps. 5. Avatar should be upload by our choice.\" => 3\n",
    "                \n",
    "                13. \"(I'm a kid) Alright it's great like PERFECT but it has to be 9.7/10 PLZ ADD BOURTO NAURTO THE NEXT GENERATION! HULU HAS IT BUT THAT SERVICE DOG WATER\" => 3\n",
    "\n",
    "                14. \"This app is one of the best app I've ever downloaded on my phone! It is a grate way of getting to watch all of your shows and relaxing after a day of work!!! Highly recommend getting the app!\" => 3\n",
    "\n",
    "                15. \"This is the best thing for TV shows and movies me andy mom love this app and it works so WELL they have some great ideas for movie and TV shows and it is just so cool five star worthy definitely Netflix is better that the Roku channel and I thought I would never say that. I love this app and everything in it thank you Netflix\" => 3\n",
    "                \n",
    "                Please provide the sentiment classification as a single number (1, 2, or 3) and nothing more.\n",
    "\n",
    "\n",
    "                Text: \"{text}\"\n",
    "                \"\"\"\n",
    "            }\n",
    "        ],\n",
    "        model=\"llama3-8b-8192\",\n",
    "        # model=\"mixtral-8x7b-32768\",\n",
    "    armaz = chat_completion.choices[0].message.content\n",
    "    print(f'Índice {index}:\\t{armaz}')\n",
    "    list.append(armaz)\n",
    "    i = i+1"
   ]
  },
  {
   "cell_type": "code",
   "execution_count": null,
   "id": "95f2e073",
   "metadata": {},
   "outputs": [],
   "source": [
    "len(list)"
   ]
  },
  {
   "cell_type": "code",
   "execution_count": null,
   "id": "c8ac31f3",
   "metadata": {},
   "outputs": [],
   "source": [
    "# list.pop()"
   ]
  },
  {
   "cell_type": "code",
   "execution_count": null,
   "id": "4cb01ea1",
   "metadata": {},
   "outputs": [],
   "source": [
    "list"
   ]
  },
  {
   "cell_type": "code",
   "execution_count": null,
   "id": "33ac5326",
   "metadata": {},
   "outputs": [],
   "source": [
    "train_data['predictedSentiment'] = pd.Series(list)"
   ]
  },
  {
   "cell_type": "code",
   "execution_count": null,
   "id": "eab6a801",
   "metadata": {},
   "outputs": [],
   "source": [
    "train_data"
   ]
  },
  {
   "cell_type": "code",
   "execution_count": null,
   "id": "1ee6f5b2-37a9-467f-9547-0078a9fa2d92",
   "metadata": {},
   "outputs": [],
   "source": [
    "import re\n",
    "\n",
    "def contains_number(s):\n",
    "    return any(char.isdigit() for char in s)\n",
    "\n",
    "def findNumbers(string):\n",
    "    # Find all numbers in the string\n",
    "    numbers = None\n",
    "    if(contains_number(string)):\n",
    "        numbers = re.findall(r'\\d+', string)\n",
    "    else:\n",
    "        numbers = \"\"\n",
    "    \n",
    "    # Convert the numbers to integers\n",
    "    \n",
    "    numbers = [int(x) for x in numbers]\n",
    "    \n",
    "    if(len(numbers)>0):\n",
    "        x = numbers[0]-1\n",
    "    else:\n",
    "        x = -1\n",
    "    return x"
   ]
  },
  {
   "cell_type": "code",
   "execution_count": null,
   "id": "7345af7a-5900-4033-8a93-760c4fe213f3",
   "metadata": {},
   "outputs": [],
   "source": [
    "formated = train_data['predictedSentiment'].apply(findNumbers)"
   ]
  },
  {
   "cell_type": "code",
   "execution_count": null,
   "id": "a345ca9b-fabb-4b80-96e0-b80c35eadd6d",
   "metadata": {},
   "outputs": [],
   "source": [
    "train_data['predictedSentiment'] = formated"
   ]
  },
  {
   "cell_type": "code",
   "execution_count": null,
   "id": "b49172a7-64e8-4f77-b8a4-8a9162125078",
   "metadata": {
    "scrolled": true
   },
   "outputs": [],
   "source": [
    "train_data"
   ]
  },
  {
   "cell_type": "code",
   "execution_count": null,
   "id": "09c52c78-2cd1-4f8e-8e45-e15312e86971",
   "metadata": {},
   "outputs": [],
   "source": [
    "train_data.to_csv('llamaOutput/filenameAmazonFewShotLlama.csv', index=False)\n",
    "# train_data.to_csv('mixstralOutput/filenameAmazonFewShotMixtral.csv', index=False)"
   ]
  },
  {
   "cell_type": "code",
   "execution_count": null,
   "id": "129beb56-7a49-4006-9413-b3602e063214",
   "metadata": {},
   "outputs": [],
   "source": [
    "results = pd.read_csv(\"llamaOutput/filenameAmazonFewShotLlama.csv\")\n",
    "# results = pd.read_csv(\"mixtralOutput/filenameAmazonFewShotMixtral.csv\")"
   ]
  },
  {
   "cell_type": "code",
   "execution_count": null,
   "id": "0d9302f2-6c19-4b27-97f2-4b0ae0966dc6",
   "metadata": {},
   "outputs": [],
   "source": [
    "results"
   ]
  },
  {
   "cell_type": "code",
   "execution_count": null,
   "id": "c76eb963-bfd0-4c7c-b1d0-bfe024f9fe36",
   "metadata": {},
   "outputs": [],
   "source": [
    "results['predictedSentiment'].value_counts().sort_index()"
   ]
  },
  {
   "cell_type": "code",
   "execution_count": null,
   "id": "bf0cb9d1-dd9c-4854-8419-9648282d2574",
   "metadata": {},
   "outputs": [],
   "source": [
    "filtered_df = results[results[\"predictedSentiment\"] == -1]"
   ]
  },
  {
   "cell_type": "code",
   "execution_count": null,
   "id": "d342cb98-0b35-4adc-b641-68c000caf960",
   "metadata": {},
   "outputs": [],
   "source": [
    "filtered_df"
   ]
  },
  {
   "cell_type": "code",
   "execution_count": null,
   "id": "ceb610be-3340-4575-bf27-5b5a91f19176",
   "metadata": {},
   "outputs": [],
   "source": [
    "newResults = results[results[\"predictedSentiment\"] != -1]"
   ]
  },
  {
   "cell_type": "code",
   "execution_count": null,
   "id": "626e985f-2774-4bf1-91a1-de86e1c1d57f",
   "metadata": {},
   "outputs": [],
   "source": [
    "newResults"
   ]
  },
  {
   "cell_type": "code",
   "execution_count": null,
   "id": "d2f7c927-9f0d-4c55-92fb-7cb6e1812911",
   "metadata": {},
   "outputs": [],
   "source": [
    "from matplotlib.ticker import PercentFormatter\n",
    "import matplotlib.pyplot as plt\n",
    "import seaborn as sns\n",
    "from sklearn.metrics import confusion_matrix\n",
    "\n",
    "def cm_analysis(y_true, y_pred, filename, labels, classes, ymap=None, figsize=(17,17)):\n",
    "    \"\"\"\n",
    "    Generate matrix plot of confusion matrix with pretty annotations.\n",
    "    The plot image is saved to disk.\n",
    "    args: \n",
    "      y_true:    true label of the data, with shape (nsamples,)\n",
    "      y_pred:    prediction of the data, with shape (nsamples,)\n",
    "      filename:  filename of figure file to save\n",
    "      labels:    string array, name the order of class labels in the confusion matrix.\n",
    "                 use `clf.classes_` if using scikit-learn models.\n",
    "                 with shape (nclass,).\n",
    "      classes:   aliases for the labels. String array to be shown in the cm plot.\n",
    "      ymap:      dict: any -> string, length == nclass.\n",
    "                 if not None, map the labels & ys to more understandable strings.\n",
    "                 Caution: original y_true, y_pred and labels must align.\n",
    "      figsize:   the size of the figure plotted.\n",
    "    \"\"\"\n",
    "    sns.set(font_scale=2.8)\n",
    "\n",
    "    if ymap is not None:\n",
    "        y_pred = [ymap[yi] for yi in y_pred]\n",
    "        y_true = [ymap[yi] for yi in y_true]\n",
    "        labels = [ymap[yi] for yi in labels]\n",
    "    cm = confusion_matrix(y_true, y_pred, labels=labels)\n",
    "    cm_sum = np.sum(cm, axis=1, keepdims=True)\n",
    "    cm_perc = cm / cm_sum.astype(float) * 100\n",
    "    annot = np.empty_like(cm).astype(str)\n",
    "    nrows, ncols = cm.shape\n",
    "    for i in range(nrows):\n",
    "        for j in range(ncols):\n",
    "            c = cm[i, j]\n",
    "            p = cm_perc[i, j]\n",
    "            if i == j:\n",
    "                s = cm_sum[i]\n",
    "                annot[i, j] = '%.2f%%\\n%d/%d' % (p, c, s)\n",
    "            #elif c == 0:\n",
    "            #    annot[i, j] = ''\n",
    "            else:\n",
    "                annot[i, j] = '%.2f%%\\n%d' % (p, c)\n",
    "    cm = confusion_matrix(y_true, y_pred, labels=labels, normalize='true')\n",
    "    cm = pd.DataFrame(cm, index=labels, columns=labels)\n",
    "    cm = cm * 100\n",
    "    cm.index.name = 'True Label'\n",
    "    cm.columns.name = 'Predicted Label'\n",
    "    fig, ax = plt.subplots(figsize=figsize)\n",
    "    plt.yticks(va='center')\n",
    "\n",
    "    sns.heatmap(cm, annot=annot, fmt='', ax=ax, xticklabels=classes, cbar=True, cbar_kws={'format':PercentFormatter()}, yticklabels=classes, cmap=\"Blues\")\n",
    "    plt.savefig(f'{filename}.png',  bbox_inches='tight')\n",
    "    plt.savefig(f'{filename}.svg',  bbox_inches='tight')"
   ]
  },
  {
   "cell_type": "code",
   "execution_count": null,
   "id": "5271c7ce-3c4b-4548-ac8d-1fd03dcbef9b",
   "metadata": {},
   "outputs": [],
   "source": [
    "# Generate the confusion matrix\n",
    "unique_labels = np.sort(newResults['scoreSA'].unique())\n",
    "mapping = {0: 'Very Negative (1)', 1: 'Negative (2)', 2: 'Neutral (3)', 3: 'Positive (4)', 4: 'Very Positive (5)'}\n",
    "\n",
    "# Applying mapping\n",
    "classes = [mapping[value] for value in unique_labels]"
   ]
  },
  {
   "cell_type": "code",
   "execution_count": null,
   "id": "277fc98a-f8a1-47d6-8635-81fb246dd88b",
   "metadata": {},
   "outputs": [],
   "source": [
    "cm_analysis(newResults['scoreSA'], newResults['predictedSentiment'], 'API', unique_labels, classes)"
   ]
  },
  {
   "cell_type": "code",
   "execution_count": null,
   "id": "bf9b64a6-3866-4630-a698-b5acdaba7a2a",
   "metadata": {},
   "outputs": [],
   "source": [
    "from sklearn.metrics import accuracy_score, balanced_accuracy_score, precision_score, recall_score, f1_score, precision_recall_fscore_support, mean_absolute_error\n",
    "\n",
    "accuracy = accuracy_score(newResults['scoreSA'], newResults['predictedSentiment'])\n",
    "precision_ALL = precision_score(newResults['scoreSA'], newResults['predictedSentiment'], average='macro')\n",
    "recall_ALL = recall_score(newResults['scoreSA'], newResults['predictedSentiment'], average='macro')\n",
    "f1_ALL = f1_score(newResults['scoreSA'], newResults['predictedSentiment'], average='macro')\n",
    "mae_ALL = mean_absolute_error(newResults['scoreSA'], newResults['predictedSentiment'])\n",
    "precision, recall, f1, support = precision_recall_fscore_support(newResults['scoreSA'], newResults['predictedSentiment'])"
   ]
  },
  {
   "cell_type": "code",
   "execution_count": null,
   "id": "5e69e1b1-6bd7-4c44-a9a1-79a151e749d1",
   "metadata": {},
   "outputs": [],
   "source": [
    "# Calculate accuracy for each class\n",
    "for i in range(len(unique_labels)):\n",
    "    temp = newResults[newResults[\"scoreSA\"] == i]\n",
    "    value = accuracy_score(temp['scoreSA'], temp['predictedSentiment'])\n",
    "    print(f'Label:\\t{i}\\t-\\tValue:\\t{value}')"
   ]
  },
  {
   "cell_type": "code",
   "execution_count": null,
   "id": "7e56bc89-7b8e-4e9b-9d4e-c7b6fbc9eb08",
   "metadata": {},
   "outputs": [],
   "source": [
    "accuracy"
   ]
  },
  {
   "cell_type": "code",
   "execution_count": null,
   "id": "304855d2-f840-4642-9b47-cceabc664ab0",
   "metadata": {},
   "outputs": [],
   "source": [
    "balanced_accuracy = balanced_accuracy_score(results['scoreSA'], results['predictedSentiment'])"
   ]
  },
  {
   "cell_type": "code",
   "execution_count": null,
   "id": "d5359fc4-672e-494d-9c29-1b7b5bc6742a",
   "metadata": {},
   "outputs": [],
   "source": [
    "balanced_accuracy"
   ]
  },
  {
   "cell_type": "code",
   "execution_count": null,
   "id": "7d2e2b25-67fa-46be-adfc-85e2ee0b93b8",
   "metadata": {},
   "outputs": [],
   "source": [
    "precision_ALL"
   ]
  },
  {
   "cell_type": "code",
   "execution_count": null,
   "id": "6d006bf2-44ae-4ebe-842d-9b1491ba81cd",
   "metadata": {},
   "outputs": [],
   "source": [
    "recall_ALL"
   ]
  },
  {
   "cell_type": "code",
   "execution_count": null,
   "id": "742c577e-f685-45be-91d7-aefc5c2d70e1",
   "metadata": {},
   "outputs": [],
   "source": [
    "f1_ALL"
   ]
  },
  {
   "cell_type": "code",
   "execution_count": null,
   "id": "f3e1468b-1d72-4c77-a6b2-0490cac68a5c",
   "metadata": {},
   "outputs": [],
   "source": [
    "mae_ALL"
   ]
  },
  {
   "cell_type": "code",
   "execution_count": null,
   "id": "2c7270e0-e59b-4c5f-b564-5d43ab6f947b",
   "metadata": {},
   "outputs": [],
   "source": [
    "precision"
   ]
  },
  {
   "cell_type": "code",
   "execution_count": null,
   "id": "eb5b47d4-f2a7-4ccd-8cbe-a9f694d238c4",
   "metadata": {},
   "outputs": [],
   "source": [
    "recall"
   ]
  },
  {
   "cell_type": "code",
   "execution_count": null,
   "id": "3840f501-1dc9-44b8-8a9c-58635581916d",
   "metadata": {},
   "outputs": [],
   "source": [
    "f1"
   ]
  },
  {
   "cell_type": "code",
   "execution_count": null,
   "id": "84c968bd-c651-4dae-99f5-4054572fca7d",
   "metadata": {},
   "outputs": [],
   "source": [
    "support"
   ]
  },
  {
   "cell_type": "code",
   "execution_count": null,
   "id": "da51a01b-9e03-4ba9-8bd1-357a79d4f7df",
   "metadata": {},
   "outputs": [],
   "source": []
  },
  {
   "cell_type": "code",
   "execution_count": null,
   "id": "d0949846",
   "metadata": {},
   "outputs": [],
   "source": []
  },
  {
   "cell_type": "code",
   "execution_count": null,
   "id": "65c1e1d5",
   "metadata": {},
   "outputs": [],
   "source": []
  },
  {
   "cell_type": "code",
   "execution_count": null,
   "id": "bad16e29",
   "metadata": {},
   "outputs": [],
   "source": []
  },
  {
   "cell_type": "code",
   "execution_count": null,
   "id": "fc908041",
   "metadata": {},
   "outputs": [],
   "source": []
  },
  {
   "cell_type": "code",
   "execution_count": null,
   "id": "680aa5f3",
   "metadata": {},
   "outputs": [],
   "source": []
  },
  {
   "cell_type": "code",
   "execution_count": null,
   "id": "5c50c20f",
   "metadata": {},
   "outputs": [],
   "source": []
  },
  {
   "cell_type": "code",
   "execution_count": null,
   "id": "5268f3ef",
   "metadata": {},
   "outputs": [],
   "source": []
  }
 ],
 "metadata": {
  "kernelspec": {
   "display_name": "Python 3 (ipykernel)",
   "language": "python",
   "name": "python3"
  },
  "language_info": {
   "codemirror_mode": {
    "name": "ipython",
    "version": 3
   },
   "file_extension": ".py",
   "mimetype": "text/x-python",
   "name": "python",
   "nbconvert_exporter": "python",
   "pygments_lexer": "ipython3",
   "version": "3.10.12"
  }
 },
 "nbformat": 4,
 "nbformat_minor": 5
}
