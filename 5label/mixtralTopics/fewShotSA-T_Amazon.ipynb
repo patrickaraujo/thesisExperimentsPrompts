{
 "cells": [
  {
   "cell_type": "code",
   "execution_count": null,
   "id": "42c9951f-de7d-422b-823e-751ce2257bdb",
   "metadata": {},
   "outputs": [],
   "source": [
    "import os\n",
    "from groq import Groq\n",
    "import pandas as pd\n",
    "import numpy as np"
   ]
  },
  {
   "cell_type": "code",
   "execution_count": null,
   "id": "f2ddda98-7f34-41d2-b798-6f46879c2585",
   "metadata": {},
   "outputs": [],
   "source": [
    "apiKey = \"fill_it_here\""
   ]
  },
  {
   "cell_type": "code",
   "execution_count": null,
   "id": "77994b44-478a-4729-8611-3b77a25ee5f5",
   "metadata": {},
   "outputs": [],
   "source": [
    "client = Groq(\n",
    "    # api_key=os.environ.get(\"GROQ_API_KEY\"),\n",
    "    api_key= apiKey,\n",
    ")"
   ]
  },
  {
   "cell_type": "code",
   "execution_count": null,
   "id": "8bd4c777-0b4d-45c5-b3c6-bbf91516f52f",
   "metadata": {},
   "outputs": [],
   "source": [
    "dataset = pd.read_csv(\"keyphrases/done/keyphrases_AmazonMixtral_Done.csv\")"
   ]
  },
  {
   "cell_type": "code",
   "execution_count": null,
   "id": "8a4028ed-14ea-4b0d-a715-d6b5876b5e71",
   "metadata": {
    "scrolled": true
   },
   "outputs": [],
   "source": [
    "dataset"
   ]
  },
  {
   "cell_type": "code",
   "execution_count": null,
   "id": "687fd768-775b-4a8b-b5a6-84689845ccad",
   "metadata": {},
   "outputs": [],
   "source": [
    "score_counts_balanced = dataset['sentiment'].value_counts().sort_index()\n",
    "print(score_counts_balanced)"
   ]
  },
  {
   "cell_type": "code",
   "execution_count": null,
   "id": "5f1962b3-0b01-4d1c-bde1-511050e8b755",
   "metadata": {},
   "outputs": [],
   "source": [
    "train_data = dataset[['content', 'sentiment', 'Merged keyphrases_reduced 2']]\n",
    "train_data['row_number'] = train_data.index"
   ]
  },
  {
   "cell_type": "code",
   "execution_count": null,
   "id": "fba2c8a6-58a8-474a-ae0d-2063b78becc5",
   "metadata": {},
   "outputs": [],
   "source": [
    "train_data"
   ]
  },
  {
   "cell_type": "code",
   "execution_count": null,
   "id": "830178eb-0a18-4663-a59d-1788f6631607",
   "metadata": {
    "scrolled": true
   },
   "outputs": [],
   "source": [
    "list = []\n",
    "i = 0\n",
    "for index, row in train_data.iterrows():\n",
    "    text = row['content']\n",
    "    topics = row['Merged keyphrases_reduced 2']\n",
    "    string_message = f\"\"\"I need you to evaluate and assess the comment along with the set of topics/keyphrases, categorizing their sentiment into one of five levels: 1 - very negative, 2 - negative, 3 - neutral, 4 - positive, 5 - very positive. Here are examples to guide your classification:\n",
    "\n",
    "                1. Comment: \"Not sure why Amazon thinks it's OK to hijack my long press menu to add their stupid search icon there with no option to remove it. Oh well, now I have one less app taking up space on my phone.\"\n",
    "                Topics / Keyphrases: ['social media', 'digital marketing', 'email marketing', 'content marketing', 'social media marketing', 'search engine optimization', 'influencer marketing', 'mobile marketing', 'video marketing', 'email campaigns']\n",
    "                Label: 1\n",
    "\n",
    "                2. Comment: \"App is now incredibly laggy to the point I'm unable to scroll down to read reviews or look at pictures. Makes it impossible to shop. 0/5 stars. Can't even use the app.\"\n",
    "                Topics / Keyphrases: ['Amazon App problems', 'User experience decline', 'App stability issues', 'Recent update difficulties', '5 seconds load time', 'Negative feedback', 'Functionality errors', 'Requires immediate fix', 'User frustration', 'Potential loss of customer']\n",
    "                Label: 1\n",
    "\n",
    "                3. Comment: \"The absurd experience I've had with Amazon over these past 2 weeks is nothing short of horrendous. I'm all for employing foreign people to deal with customer service but if they themselves are unable to properly handle serious issues what is the point. I have had to spend hours in my bank getting my card changed all so I can make my purchases and your agent has me remove and re-add it only for it to not be accepted then they transfer me 5 times and ask me the same stupid questions\"\n",
    "                Topics / Keyphrases: ['Amazon delivery issues', 'long delivery times', 'user frustrations', 'Prime membership concerns', 'app tracking problems', 'order checking difficulties', 'medical supply delivery', 'customer service communication', 'electric bicycle payment issues', 'inaccurate orders and refunds']\n",
    "                Label: 1\n",
    "\n",
    "                4. Comment: \"terrible customer service, and they WILL send you broken and or defective products, or nothing at all! prime sucks, they treat you like trash weather you are a prime member who has spent thousands of dollars, or someone whos never spent a dime. seriously, go to the store yourself. amazon corps should be dismantled.\"\n",
    "                Topics / Keyphrases: ['higher prices on Amazon', 'product display issues on Amazon', 'frustration with Amazon shopping experience', 'time-consuming product sorting', 'sponsored products concerns on Amazon', 'fake products on Amazon', 'need for seller verification', 'customer dissatisfaction with product display', 'poor delivery experience', 'terrible customer service']\n",
    "                Label: 1\n",
    "\n",
    "                5. Comment: \"Cannot disable product videos. You search for something and right away videos start playing in the product pictures. Why you can't disable this. I want to focus on shipping not on idiotic videos! This feature is damn, unethical and borderline illegal. You need to be ashamed pushing this to your customers.\"\n",
    "                Topics / Keyphrases: ['User experience issue with Amazon App', 'Inclusion of product videos in product pictures', 'Limitations in disabling product videos', 'Customer complaints on Google Play Store', 'Preference for product images over video demonstrations', 'Professional users' difficulty with video feature', 'Annoyance with TikTok-style influencers', 'Product touching element in videos', 'Ethical concerns over unrequested videos', 'Search results affected by unwanted videos']\n",
    "                Label: 1\n",
    "\n",
    "                6. Comment: \"Too slow, i honestly don't know what happened after the new update it got too laggy, the app started crashing and it became a pain to shop from the app\"\n",
    "                Topics / Keyphrases: ['Amazon App issues', 'user experience decline', 'functionality affected', 'slow performance', 'app crashing', 'order tracking problem', 'money transfer delay', 'constant crashes', 'specific date bug', 'security concern']\n",
    "                Label: 2\n",
    "\n",
    "                7. Comment: \"Latest app version is unreasonably buggy, especially with friend wish lists. They work fine directly from the website, but why have an app if we're constantly being forced back to the website due to flakes in the app. Google's inability (intent?) to play well with Kindle does make me wonder about the rest of the Amazon.\"\n",
    "                Topics / Keyphrases: ['Amazon App performance issues', 'slow loading on multiple phones', 'hard to navigate UI', 'Google-Kindle conflict', 'forced back to website', 'Amazon reliability', 'minimal investment in app', 'connecting issues with Blizzard account', 'increasing prices and reducing service', 'user frustration']\n",
    "                Label: 2\n",
    "\n",
    "                8. Comment: \"would love to Bulk my order to make it easier for Amazon, but when they can't get simple promised deliveries done, why should I try to help. if they tell you next day delivery it's going to take 2 or 3 days. like it or not. I don't care for that new way of over promising.\"\n",
    "                Topics / Keyphrases: ['Amazon delivery issues', 'promised vs actual delivery times', 'user experience and Prime membership', 'prices increase with items', 'monopoly concerns and delayed deliveries', 'payment processing problems', 'damaged and stolen packages', 'product quality and refund processing', 'cost comparison with other vendors', 'alternatives to Amazon']\n",
    "                Label: 2\n",
    "\n",
    "                9. Comment: \"The app for Android is incredibly inferior to the Apple app. I haven't been able to open my recent orders for months, it spins and then I get an error. I'm not sure why that functionality hasn't been fixed yet.\"\n",
    "                Topics / Keyphrases: ['Amazon App issues', 'user experience decline', 'functionality affected', 'slow performance', 'app crashing', 'order tracking problem', 'money transfer delay', 'constant crashes', 'specific date bug', 'security concern']\n",
    "                Label: 2\n",
    "\n",
    "                10. Comment: \"I'm tired of major app changes without warning. Perhaps user input should count for something. Can't stand having the search bar at the bottom now. Considering uninstalling and just using the website.\"\n",
    "                Topics / Keyphrases: ['Amazon App changes', 'user experience', 'feedback on changes', 'Google Play Store comments', 'app design', 'lack of warning', 'user input', 'search bar location', 'app performance issues', 'user complaints']\n",
    "                Label: 2\n",
    "\n",
    "                11. Comment: \"Please give an option to choose the new or the classic wish list interface. The new interface is completely unhelpful and only adds more clicks/taps to get to where I really want to be. Not to mention, for privacy reasons maybe one doesn't want *everything* appearing on the landing page.\"\n",
    "                Topics / Keyphrases: ['Amazon App search bar location', 'User interface preference', 'Application features', 'User feedback', 'Instructional videos', 'Product links', 'Design change', 'User frustration', 'Wish list design', 'End user control']\n",
    "                Label: 3\n",
    "\n",
    "                12. Comment: \"its okay. can you please bring back the ability to remove suggestions im not interested in. please allow me to either delete older purchases or make sure i stop being advertised stuff i absolutely do not want\"\n",
    "                Topics / Keyphrases: ['social media', 'digital marketing', 'email marketing', 'content marketing', 'social media marketing', 'search engine optimization', 'influencer marketing', 'mobile marketing', 'video marketing', 'email campaigns']\n",
    "                Label: 3\n",
    "\n",
    "                13. Comment: \"It could be better but it is good. I think when you want to move some items from one folder to another I wish you could select more than one item at a time to move at once.\"\n",
    "                Topics / Keyphrases: ['Amazon App user experience', 'app speed and performance', 'product prices and cost', 'shopping frequency and orders', 'delivery time and issues', 'specific delivery location', 'app interface and organization', 'shipping cost', 'dark mode and night time', 'multiple items selection and folders']\n",
    "                Label: 3\n",
    "\n",
    "                14. Comment: \"Really like using this app as a disabled person it helps me get things that I can't get out to get. Lately though it's been crashing every time I go on, hopefully this is resolved soon.\"\n",
    "                Topics / Keyphrases: ['Amazon App issues', 'Digital music errors', 'User frustrations', 'Inability to buy Kindle books', 'Lag when scrolling', 'Positive opinion vs. purchase issues', 'Problems with favorites list', 'Delivery experience issues', 'Searching for items challenges', 'App usability for disabled persons']\n",
    "                Label: 3\n",
    "\n",
    "                15. Comment: \"The app is good and does the job. There is though no control on the fake reviews for products. The app also does not control any fake products. Unfortunately buyers trust the app and end up buying fake products.\"\n",
    "                Topics / Keyphrases: ['Amazon App notifications', 'user preference', 'spam notifications', 'unwanted ads', 'package delivery notifications', 'user complaints', 'poorly rated products', 'app flaws', 'user interface update', 'buyer protection']\n",
    "                Label: 3\n",
    "\n",
    "                16. Comment: \"So much choice. Great prices. Sometimes returns options are limited, but most sellers and Amazon are generally great at offering flexibility. Be wary of the default being to add a delivery charge for fast delivery and never ending offers of Prime!\"\n",
    "                Topics / Keyphrases: ['Amazon app purchases experience', 'Item quality and price concerns', 'Value for money decreasing', 'Smooth return process', 'Delivery expectations vs reality', 'Price discrepancy in app', 'Prime subscription value', 'Limited returns flexibility', 'International shipping cost', 'E-commerce packaging issues']\n",
    "                Label: 4\n",
    "\n",
    "                17. Comment: \"Great place for wide range of products at the best prices. my only issue is the amount of time it takes to receive a refund. if not for the wait time would have been 5 starts. customer service not great but better than a lot of others that I have come across.\"\n",
    "                Topics / Keyphrases: ['Amazon App experience', 'Higher prices and corporate profits', 'Employee benefits and pay', 'Healthcare and user preferences', 'Late deliveries and delay in transit', 'Warehouse processing and user satisfaction', 'Product delivery and return process', 'Checkout process and cost calculation', 'Wide range of products and Prime membership', 'Customer service and order discrepancies']\n",
    "                Label: 4\n",
    "\n",
    "                18. Comment: \"Easy app, good product and pretty fast delivery for the most part.\"\n",
    "                Topics / Keyphrases: ['Amazon App', 'user experience', 'product availability', 'positive review', 'online shopping', 'customer satisfaction', 'in-app customer reviews', 'rating accuracy', 'fast delivery', 'customer service']\n",
    "                Label: 4\n",
    "\n",
    "                19. Comment: \"When everywhere else fails get it on Amazon 😂 Don't care for those 3rd party sellers when they tell you it was delivered & was not or we have to fight to get our products from them, they charge a higher price AFTER you ordered 🤬 not worth the bs & hassle. Stick w/sold & shipped by Amazon & you'll get it when you're supposed too! 👍😁\"\n",
    "                Topics / Keyphrases: ['Third party seller issues on Amazon', 'Inconsistent delivery from Amazon', 'Higher prices from third party sellers', 'Amazon reliability for product delivery', 'Comfortable work boots with steel toe caps', 'Value of quality footwear', 'Frustration with Amazon gift cards', 'Persistent error in Amazon App', 'User frustration with Amazon services', 'Considering parting ways with Amazon']\n",
    "                Label: 4\n",
    "\n",
    "                20. Comment: \"convenient if you can wait for shipping time ... they usually have what I'm look for ... at a decent price. Sometimes parts/items get grouped in with other products under different description/name. So when you are searching for a specific item and you type in the item it comes up with something different or says not found ... but to only discover it by chance while searching . I like Amazon for the most part and suggest it to others.\"\n",
    "                Topics / Keyphrases: ['user experience', 'Amazon Prime Member', 'gift card redemption', 'item search', 'Amazon inventory', 'impulse purchases', 'Amazon App features', 'wish list management', 'product review', 'online shopping behavior']\n",
    "                Label: 4\n",
    "\n",
    "                21. Comment: \"I wouldn't have survived without Amazon. I am so grateful to them for their caring, first class service\"\n",
    "                Topics / Keyphrases: ['Amazon app usage for retired user', 'Checking global trends on Amazon', 'Potential shortage awareness', 'Value for gamers on Amazon', 'Improving foresight in shopping', 'Satisfying user experience', 'Timely delivery from Amazon', 'Competitive and affordable pricing', 'Convenient online shopping', 'Excellent customer service']\n",
    "                Label: 5\n",
    "\n",
    "                22. Comment: \"IT'S WONDERFUL SUPER MARKET IN ALL OF THE WORLD\"\n",
    "                Topics / Keyphrases: ['user experience', 'Amazon App', 'Google Play Store', 'user comments', 'positive review', 'purchasing products', 'app evaluation', 'e-commerce', 'finding products', 'initial stage']\n",
    "                Label: 5\n",
    "\n",
    "                23. Comment: \"Amazon made it possible for me to finally fulfill my lifelong dream of becoming a hermit. good bye crowd, I'm digging it, and bugging out. thank you Amazon\"\n",
    "                Topics / Keyphrases: ['Amazon app user experience', 'lifelong dream Ms. Wendy d. Woods', 'new to e-commerce app', 'front door signatures delivery', 'digging it positive experience', 'user satisfaction thank you Amazon', 'waiting for package delivery', 'Google Play Store download', 'hermit lifestyle goodbye crowd', 'thankful for service bugging out']\n",
    "                Label: 5\n",
    "\n",
    "                24. Comment: \"Amazon is my 1 stop shopping site!! They are an awesome organization that has always taken care of ALL my shopping and customer service needs!!!\"\n",
    "                Topics / Keyphrases: ['Amazon shopping', 'user experience', 'product variety', 'online shopping', 'customer satisfaction', 'Amazon app', 'Google Play Store', 'user comments', 'app functionality', 'e-commerce']\n",
    "                Label: 5\n",
    "\n",
    "                25. Comment: \"I wouldn't have survived without Amazon. I am so grateful to them for their caring, first class service\"\n",
    "                Topics / Keyphrases: ['Amazon app usage for retired user', 'Checking global trends on Amazon', 'Potential shortage awareness', 'Value for gamers on Amazon', 'Improving foresight in shopping', 'Satisfying user experience', 'Timely delivery from Amazon', 'Competitive and affordable pricing', 'Convenient online shopping', 'Excellent customer service']\n",
    "                Label: 5\n",
    "\n",
    "\n",
    "                Please provide the sentiment classification as a single number (1, 2, 3, 4, or 5) and nothing more for the following comment:\n",
    "\n",
    "                Comment: \"{text}\"\n",
    "                Topics / Keyphrases: {topics}\n",
    "                Label: ?\n",
    "                \"\"\"\n",
    "    print(\"\\n\\n\")\n",
    "    print(string_message)\n",
    "    print(\"\\n\")\n",
    "    \n",
    "    chat_completion = client.chat.completions.create(\n",
    "        messages = [\n",
    "            {\n",
    "                \"role\": \"user\",\n",
    "                \"content\": f\"\"\"{string_message}\"\"\"\n",
    "            }\n",
    "    \n",
    "        ],\n",
    "        # model=\"llama3-8b-8192\",\n",
    "        model=\"mixtral-8x7b-32768\",\n",
    "    )\n",
    "    \n",
    "    armaz = chat_completion.choices[0].message.content\n",
    "    print(f'{index}:\\t{armaz}')\n",
    "    list.append(armaz)"
   ]
  },
  {
   "cell_type": "code",
   "execution_count": null,
   "id": "8e4116ac",
   "metadata": {},
   "outputs": [],
   "source": [
    "len(list)"
   ]
  },
  {
   "cell_type": "code",
   "execution_count": null,
   "id": "861d88d7",
   "metadata": {
    "scrolled": true
   },
   "outputs": [],
   "source": [
    "rest = train_data[len(list):]\n",
    "for index, row in rest.iterrows():\n",
    "    text = row['content']\n",
    "    topics = row['Merged keyphrases_reduced 2']\n",
    "    string_message = f\"\"\"I need you to evaluate and assess the comment along with the set of topics/keyphrases, categorizing their sentiment into one of five levels: 1 - very negative, 2 - negative, 3 - neutral, 4 - positive, 5 - very positive. Here are examples to guide your classification:\n",
    "\n",
    "                1. Comment: \"Not sure why Amazon thinks it's OK to hijack my long press menu to add their stupid search icon there with no option to remove it. Oh well, now I have one less app taking up space on my phone.\"\n",
    "                Topics / Keyphrases: ['social media', 'digital marketing', 'email marketing', 'content marketing', 'social media marketing', 'search engine optimization', 'influencer marketing', 'mobile marketing', 'video marketing', 'email campaigns']\n",
    "                Label: 1\n",
    "\n",
    "                2. Comment: \"App is now incredibly laggy to the point I'm unable to scroll down to read reviews or look at pictures. Makes it impossible to shop. 0/5 stars. Can't even use the app.\"\n",
    "                Topics / Keyphrases: ['Amazon App problems', 'User experience decline', 'App stability issues', 'Recent update difficulties', '5 seconds load time', 'Negative feedback', 'Functionality errors', 'Requires immediate fix', 'User frustration', 'Potential loss of customer']\n",
    "                Label: 1\n",
    "\n",
    "                3. Comment: \"The absurd experience I've had with Amazon over these past 2 weeks is nothing short of horrendous. I'm all for employing foreign people to deal with customer service but if they themselves are unable to properly handle serious issues what is the point. I have had to spend hours in my bank getting my card changed all so I can make my purchases and your agent has me remove and re-add it only for it to not be accepted then they transfer me 5 times and ask me the same stupid questions\"\n",
    "                Topics / Keyphrases: ['Amazon delivery issues', 'long delivery times', 'user frustrations', 'Prime membership concerns', 'app tracking problems', 'order checking difficulties', 'medical supply delivery', 'customer service communication', 'electric bicycle payment issues', 'inaccurate orders and refunds']\n",
    "                Label: 1\n",
    "\n",
    "                4. Comment: \"terrible customer service, and they WILL send you broken and or defective products, or nothing at all! prime sucks, they treat you like trash weather you are a prime member who has spent thousands of dollars, or someone whos never spent a dime. seriously, go to the store yourself. amazon corps should be dismantled.\"\n",
    "                Topics / Keyphrases: ['higher prices on Amazon', 'product display issues on Amazon', 'frustration with Amazon shopping experience', 'time-consuming product sorting', 'sponsored products concerns on Amazon', 'fake products on Amazon', 'need for seller verification', 'customer dissatisfaction with product display', 'poor delivery experience', 'terrible customer service']\n",
    "                Label: 1\n",
    "\n",
    "                5. Comment: \"Cannot disable product videos. You search for something and right away videos start playing in the product pictures. Why you can't disable this. I want to focus on shipping not on idiotic videos! This feature is damn, unethical and borderline illegal. You need to be ashamed pushing this to your customers.\"\n",
    "                Topics / Keyphrases: ['User experience issue with Amazon App', 'Inclusion of product videos in product pictures', 'Limitations in disabling product videos', 'Customer complaints on Google Play Store', 'Preference for product images over video demonstrations', 'Professional users' difficulty with video feature', 'Annoyance with TikTok-style influencers', 'Product touching element in videos', 'Ethical concerns over unrequested videos', 'Search results affected by unwanted videos']\n",
    "                Label: 1\n",
    "\n",
    "                6. Comment: \"Too slow, i honestly don't know what happened after the new update it got too laggy, the app started crashing and it became a pain to shop from the app\"\n",
    "                Topics / Keyphrases: ['Amazon App issues', 'user experience decline', 'functionality affected', 'slow performance', 'app crashing', 'order tracking problem', 'money transfer delay', 'constant crashes', 'specific date bug', 'security concern']\n",
    "                Label: 2\n",
    "\n",
    "                7. Comment: \"Latest app version is unreasonably buggy, especially with friend wish lists. They work fine directly from the website, but why have an app if we're constantly being forced back to the website due to flakes in the app. Google's inability (intent?) to play well with Kindle does make me wonder about the rest of the Amazon.\"\n",
    "                Topics / Keyphrases: ['Amazon App performance issues', 'slow loading on multiple phones', 'hard to navigate UI', 'Google-Kindle conflict', 'forced back to website', 'Amazon reliability', 'minimal investment in app', 'connecting issues with Blizzard account', 'increasing prices and reducing service', 'user frustration']\n",
    "                Label: 2\n",
    "\n",
    "                8. Comment: \"would love to Bulk my order to make it easier for Amazon, but when they can't get simple promised deliveries done, why should I try to help. if they tell you next day delivery it's going to take 2 or 3 days. like it or not. I don't care for that new way of over promising.\"\n",
    "                Topics / Keyphrases: ['Amazon delivery issues', 'promised vs actual delivery times', 'user experience and Prime membership', 'prices increase with items', 'monopoly concerns and delayed deliveries', 'payment processing problems', 'damaged and stolen packages', 'product quality and refund processing', 'cost comparison with other vendors', 'alternatives to Amazon']\n",
    "                Label: 2\n",
    "\n",
    "                9. Comment: \"The app for Android is incredibly inferior to the Apple app. I haven't been able to open my recent orders for months, it spins and then I get an error. I'm not sure why that functionality hasn't been fixed yet.\"\n",
    "                Topics / Keyphrases: ['Amazon App issues', 'user experience decline', 'functionality affected', 'slow performance', 'app crashing', 'order tracking problem', 'money transfer delay', 'constant crashes', 'specific date bug', 'security concern']\n",
    "                Label: 2\n",
    "\n",
    "                10. Comment: \"I'm tired of major app changes without warning. Perhaps user input should count for something. Can't stand having the search bar at the bottom now. Considering uninstalling and just using the website.\"\n",
    "                Topics / Keyphrases: ['Amazon App changes', 'user experience', 'feedback on changes', 'Google Play Store comments', 'app design', 'lack of warning', 'user input', 'search bar location', 'app performance issues', 'user complaints']\n",
    "                Label: 2\n",
    "\n",
    "                11. Comment: \"Please give an option to choose the new or the classic wish list interface. The new interface is completely unhelpful and only adds more clicks/taps to get to where I really want to be. Not to mention, for privacy reasons maybe one doesn't want *everything* appearing on the landing page.\"\n",
    "                Topics / Keyphrases: ['Amazon App search bar location', 'User interface preference', 'Application features', 'User feedback', 'Instructional videos', 'Product links', 'Design change', 'User frustration', 'Wish list design', 'End user control']\n",
    "                Label: 3\n",
    "\n",
    "                12. Comment: \"its okay. can you please bring back the ability to remove suggestions im not interested in. please allow me to either delete older purchases or make sure i stop being advertised stuff i absolutely do not want\"\n",
    "                Topics / Keyphrases: ['social media', 'digital marketing', 'email marketing', 'content marketing', 'social media marketing', 'search engine optimization', 'influencer marketing', 'mobile marketing', 'video marketing', 'email campaigns']\n",
    "                Label: 3\n",
    "\n",
    "                13. Comment: \"It could be better but it is good. I think when you want to move some items from one folder to another I wish you could select more than one item at a time to move at once.\"\n",
    "                Topics / Keyphrases: ['Amazon App user experience', 'app speed and performance', 'product prices and cost', 'shopping frequency and orders', 'delivery time and issues', 'specific delivery location', 'app interface and organization', 'shipping cost', 'dark mode and night time', 'multiple items selection and folders']\n",
    "                Label: 3\n",
    "\n",
    "                14. Comment: \"Really like using this app as a disabled person it helps me get things that I can't get out to get. Lately though it's been crashing every time I go on, hopefully this is resolved soon.\"\n",
    "                Topics / Keyphrases: ['Amazon App issues', 'Digital music errors', 'User frustrations', 'Inability to buy Kindle books', 'Lag when scrolling', 'Positive opinion vs. purchase issues', 'Problems with favorites list', 'Delivery experience issues', 'Searching for items challenges', 'App usability for disabled persons']\n",
    "                Label: 3\n",
    "\n",
    "                15. Comment: \"The app is good and does the job. There is though no control on the fake reviews for products. The app also does not control any fake products. Unfortunately buyers trust the app and end up buying fake products.\"\n",
    "                Topics / Keyphrases: ['Amazon App notifications', 'user preference', 'spam notifications', 'unwanted ads', 'package delivery notifications', 'user complaints', 'poorly rated products', 'app flaws', 'user interface update', 'buyer protection']\n",
    "                Label: 3\n",
    "\n",
    "                16. Comment: \"So much choice. Great prices. Sometimes returns options are limited, but most sellers and Amazon are generally great at offering flexibility. Be wary of the default being to add a delivery charge for fast delivery and never ending offers of Prime!\"\n",
    "                Topics / Keyphrases: ['Amazon app purchases experience', 'Item quality and price concerns', 'Value for money decreasing', 'Smooth return process', 'Delivery expectations vs reality', 'Price discrepancy in app', 'Prime subscription value', 'Limited returns flexibility', 'International shipping cost', 'E-commerce packaging issues']\n",
    "                Label: 4\n",
    "\n",
    "                17. Comment: \"Great place for wide range of products at the best prices. my only issue is the amount of time it takes to receive a refund. if not for the wait time would have been 5 starts. customer service not great but better than a lot of others that I have come across.\"\n",
    "                Topics / Keyphrases: ['Amazon App experience', 'Higher prices and corporate profits', 'Employee benefits and pay', 'Healthcare and user preferences', 'Late deliveries and delay in transit', 'Warehouse processing and user satisfaction', 'Product delivery and return process', 'Checkout process and cost calculation', 'Wide range of products and Prime membership', 'Customer service and order discrepancies']\n",
    "                Label: 4\n",
    "\n",
    "                18. Comment: \"Easy app, good product and pretty fast delivery for the most part.\"\n",
    "                Topics / Keyphrases: ['Amazon App', 'user experience', 'product availability', 'positive review', 'online shopping', 'customer satisfaction', 'in-app customer reviews', 'rating accuracy', 'fast delivery', 'customer service']\n",
    "                Label: 4\n",
    "\n",
    "                19. Comment: \"When everywhere else fails get it on Amazon 😂 Don't care for those 3rd party sellers when they tell you it was delivered & was not or we have to fight to get our products from them, they charge a higher price AFTER you ordered 🤬 not worth the bs & hassle. Stick w/sold & shipped by Amazon & you'll get it when you're supposed too! 👍😁\"\n",
    "                Topics / Keyphrases: ['Third party seller issues on Amazon', 'Inconsistent delivery from Amazon', 'Higher prices from third party sellers', 'Amazon reliability for product delivery', 'Comfortable work boots with steel toe caps', 'Value of quality footwear', 'Frustration with Amazon gift cards', 'Persistent error in Amazon App', 'User frustration with Amazon services', 'Considering parting ways with Amazon']\n",
    "                Label: 4\n",
    "\n",
    "                20. Comment: \"convenient if you can wait for shipping time ... they usually have what I'm look for ... at a decent price. Sometimes parts/items get grouped in with other products under different description/name. So when you are searching for a specific item and you type in the item it comes up with something different or says not found ... but to only discover it by chance while searching . I like Amazon for the most part and suggest it to others.\"\n",
    "                Topics / Keyphrases: ['user experience', 'Amazon Prime Member', 'gift card redemption', 'item search', 'Amazon inventory', 'impulse purchases', 'Amazon App features', 'wish list management', 'product review', 'online shopping behavior']\n",
    "                Label: 4\n",
    "\n",
    "                21. Comment: \"I wouldn't have survived without Amazon. I am so grateful to them for their caring, first class service\"\n",
    "                Topics / Keyphrases: ['Amazon app usage for retired user', 'Checking global trends on Amazon', 'Potential shortage awareness', 'Value for gamers on Amazon', 'Improving foresight in shopping', 'Satisfying user experience', 'Timely delivery from Amazon', 'Competitive and affordable pricing', 'Convenient online shopping', 'Excellent customer service']\n",
    "                Label: 5\n",
    "\n",
    "                22. Comment: \"IT'S WONDERFUL SUPER MARKET IN ALL OF THE WORLD\"\n",
    "                Topics / Keyphrases: ['user experience', 'Amazon App', 'Google Play Store', 'user comments', 'positive review', 'purchasing products', 'app evaluation', 'e-commerce', 'finding products', 'initial stage']\n",
    "                Label: 5\n",
    "\n",
    "                23. Comment: \"Amazon made it possible for me to finally fulfill my lifelong dream of becoming a hermit. good bye crowd, I'm digging it, and bugging out. thank you Amazon\"\n",
    "                Topics / Keyphrases: ['Amazon app user experience', 'lifelong dream Ms. Wendy d. Woods', 'new to e-commerce app', 'front door signatures delivery', 'digging it positive experience', 'user satisfaction thank you Amazon', 'waiting for package delivery', 'Google Play Store download', 'hermit lifestyle goodbye crowd', 'thankful for service bugging out']\n",
    "                Label: 5\n",
    "\n",
    "                24. Comment: \"Amazon is my 1 stop shopping site!! They are an awesome organization that has always taken care of ALL my shopping and customer service needs!!!\"\n",
    "                Topics / Keyphrases: ['Amazon shopping', 'user experience', 'product variety', 'online shopping', 'customer satisfaction', 'Amazon app', 'Google Play Store', 'user comments', 'app functionality', 'e-commerce']\n",
    "                Label: 5\n",
    "\n",
    "                25. Comment: \"I wouldn't have survived without Amazon. I am so grateful to them for their caring, first class service\"\n",
    "                Topics / Keyphrases: ['Amazon app usage for retired user', 'Checking global trends on Amazon', 'Potential shortage awareness', 'Value for gamers on Amazon', 'Improving foresight in shopping', 'Satisfying user experience', 'Timely delivery from Amazon', 'Competitive and affordable pricing', 'Convenient online shopping', 'Excellent customer service']\n",
    "                Label: 5\n",
    "\n",
    "\n",
    "                Please provide the sentiment classification as a single number (1, 2, 3, 4, or 5) and nothing more for the following comment:\n",
    "\n",
    "                Comment: \"{text}\"\n",
    "                Topics / Keyphrases: {topics}\n",
    "                Label: ?\n",
    "                \"\"\"\n",
    "    print(\"\\n\\n\")\n",
    "    print(string_message)\n",
    "    print(\"\\n\")\n",
    "    \n",
    "    chat_completion = client.chat.completions.create(\n",
    "        messages = [\n",
    "            {\n",
    "                \"role\": \"user\",\n",
    "                \"content\": f\"\"\"{string_message}\"\"\"\n",
    "            }\n",
    "    \n",
    "        ],\n",
    "        # model=\"llama3-8b-8192\",\n",
    "        model=\"mixtral-8x7b-32768\",\n",
    "    )\n",
    "    \n",
    "    armaz = chat_completion.choices[0].message.content\n",
    "    print(f'{index}:\\t{armaz}')\n",
    "    list.append(armaz)"
   ]
  },
  {
   "cell_type": "code",
   "execution_count": null,
   "id": "95f2e073",
   "metadata": {},
   "outputs": [],
   "source": [
    "len(list)"
   ]
  },
  {
   "cell_type": "code",
   "execution_count": null,
   "id": "c8ac31f3",
   "metadata": {},
   "outputs": [],
   "source": [
    "# list.pop()"
   ]
  },
  {
   "cell_type": "code",
   "execution_count": null,
   "id": "4cb01ea1",
   "metadata": {},
   "outputs": [],
   "source": [
    "list"
   ]
  },
  {
   "cell_type": "code",
   "execution_count": null,
   "id": "33ac5326",
   "metadata": {},
   "outputs": [],
   "source": [
    "train_data['predictedSentiment'] = pd.Series(list)"
   ]
  },
  {
   "cell_type": "code",
   "execution_count": null,
   "id": "eab6a801",
   "metadata": {},
   "outputs": [],
   "source": [
    "train_data"
   ]
  },
  {
   "cell_type": "code",
   "execution_count": null,
   "id": "1ee6f5b2-37a9-467f-9547-0078a9fa2d92",
   "metadata": {},
   "outputs": [],
   "source": [
    "import re\n",
    "\n",
    "def contains_number(s):\n",
    "    return any(char.isdigit() for char in s)\n",
    "\n",
    "def findNumbers(string):\n",
    "    # Find all numbers in the string\n",
    "    numbers = None\n",
    "    if(contains_number(string)):\n",
    "        numbers = re.findall(r'\\d+', string)\n",
    "    else:\n",
    "        numbers = \"\"\n",
    "    \n",
    "    # Convert the numbers to integers\n",
    "    \n",
    "    numbers = [int(x) for x in numbers]\n",
    "    \n",
    "    if(len(numbers)>0):\n",
    "        x = numbers[0]-1\n",
    "    else:\n",
    "        x = -1\n",
    "    return x"
   ]
  },
  {
   "cell_type": "code",
   "execution_count": null,
   "id": "7345af7a-5900-4033-8a93-760c4fe213f3",
   "metadata": {},
   "outputs": [],
   "source": [
    "formated = train_data['predictedSentiment'].apply(findNumbers)"
   ]
  },
  {
   "cell_type": "code",
   "execution_count": null,
   "id": "a345ca9b-fabb-4b80-96e0-b80c35eadd6d",
   "metadata": {},
   "outputs": [],
   "source": [
    "train_data['predictedSentiment'] = formated"
   ]
  },
  {
   "cell_type": "code",
   "execution_count": null,
   "id": "b49172a7-64e8-4f77-b8a4-8a9162125078",
   "metadata": {
    "scrolled": true
   },
   "outputs": [],
   "source": [
    "train_data"
   ]
  },
  {
   "cell_type": "code",
   "execution_count": null,
   "id": "09c52c78-2cd1-4f8e-8e45-e15312e86971",
   "metadata": {},
   "outputs": [],
   "source": [
    "train_data.to_csv('mixtralOutput/topics/filenameAmazonFewShotMixtral-T.csv', index=False)"
   ]
  },
  {
   "cell_type": "code",
   "execution_count": null,
   "id": "129beb56-7a49-4006-9413-b3602e063214",
   "metadata": {},
   "outputs": [],
   "source": [
    "results = pd.read_csv(\"mixtralOutput/topics/filenameAmazonFewShotMixtral-T.csv\")"
   ]
  },
  {
   "cell_type": "code",
   "execution_count": null,
   "id": "0d9302f2-6c19-4b27-97f2-4b0ae0966dc6",
   "metadata": {},
   "outputs": [],
   "source": [
    "results"
   ]
  },
  {
   "cell_type": "code",
   "execution_count": null,
   "id": "c76eb963-bfd0-4c7c-b1d0-bfe024f9fe36",
   "metadata": {},
   "outputs": [],
   "source": [
    "results['predictedSentiment'].value_counts().sort_index()"
   ]
  },
  {
   "cell_type": "code",
   "execution_count": null,
   "id": "bf0cb9d1-dd9c-4854-8419-9648282d2574",
   "metadata": {},
   "outputs": [],
   "source": [
    "filtered_df = results[results[\"predictedSentiment\"] == -1]"
   ]
  },
  {
   "cell_type": "code",
   "execution_count": null,
   "id": "d342cb98-0b35-4adc-b641-68c000caf960",
   "metadata": {},
   "outputs": [],
   "source": [
    "filtered_df"
   ]
  },
  {
   "cell_type": "code",
   "execution_count": null,
   "id": "ceb610be-3340-4575-bf27-5b5a91f19176",
   "metadata": {},
   "outputs": [],
   "source": [
    "newResults = results[results[\"predictedSentiment\"] != -1]"
   ]
  },
  {
   "cell_type": "code",
   "execution_count": null,
   "id": "626e985f-2774-4bf1-91a1-de86e1c1d57f",
   "metadata": {},
   "outputs": [],
   "source": [
    "newResults"
   ]
  },
  {
   "cell_type": "code",
   "execution_count": null,
   "id": "d2f7c927-9f0d-4c55-92fb-7cb6e1812911",
   "metadata": {},
   "outputs": [],
   "source": [
    "from matplotlib.ticker import PercentFormatter\n",
    "import matplotlib.pyplot as plt\n",
    "import seaborn as sns\n",
    "from sklearn.metrics import confusion_matrix\n",
    "\n",
    "def cm_analysis(y_true, y_pred, filename, labels, classes, ymap=None, figsize=(17,17)):\n",
    "    \"\"\"\n",
    "    Generate matrix plot of confusion matrix with pretty annotations.\n",
    "    The plot image is saved to disk.\n",
    "    args: \n",
    "      y_true:    true label of the data, with shape (nsamples,)\n",
    "      y_pred:    prediction of the data, with shape (nsamples,)\n",
    "      filename:  filename of figure file to save\n",
    "      labels:    string array, name the order of class labels in the confusion matrix.\n",
    "                 use `clf.classes_` if using scikit-learn models.\n",
    "                 with shape (nclass,).\n",
    "      classes:   aliases for the labels. String array to be shown in the cm plot.\n",
    "      ymap:      dict: any -> string, length == nclass.\n",
    "                 if not None, map the labels & ys to more understandable strings.\n",
    "                 Caution: original y_true, y_pred and labels must align.\n",
    "      figsize:   the size of the figure plotted.\n",
    "    \"\"\"\n",
    "    sns.set(font_scale=2.8)\n",
    "\n",
    "    if ymap is not None:\n",
    "        y_pred = [ymap[yi] for yi in y_pred]\n",
    "        y_true = [ymap[yi] for yi in y_true]\n",
    "        labels = [ymap[yi] for yi in labels]\n",
    "    cm = confusion_matrix(y_true, y_pred, labels=labels)\n",
    "    cm_sum = np.sum(cm, axis=1, keepdims=True)\n",
    "    cm_perc = cm / cm_sum.astype(float) * 100\n",
    "    annot = np.empty_like(cm).astype(str)\n",
    "    nrows, ncols = cm.shape\n",
    "    for i in range(nrows):\n",
    "        for j in range(ncols):\n",
    "            c = cm[i, j]\n",
    "            p = cm_perc[i, j]\n",
    "            if i == j:\n",
    "                s = cm_sum[i]\n",
    "                annot[i, j] = '%.2f%%\\n%d/%d' % (p, c, s)\n",
    "            #elif c == 0:\n",
    "            #    annot[i, j] = ''\n",
    "            else:\n",
    "                annot[i, j] = '%.2f%%\\n%d' % (p, c)\n",
    "    cm = confusion_matrix(y_true, y_pred, labels=labels, normalize='true')\n",
    "    cm = pd.DataFrame(cm, index=labels, columns=labels)\n",
    "    cm = cm * 100\n",
    "    cm.index.name = 'True Label'\n",
    "    cm.columns.name = 'Predicted Label'\n",
    "    fig, ax = plt.subplots(figsize=figsize)\n",
    "    plt.yticks(va='center')\n",
    "\n",
    "    sns.heatmap(cm, annot=annot, fmt='', ax=ax, xticklabels=classes, cbar=True, cbar_kws={'format':PercentFormatter()}, yticklabels=classes, cmap=\"Blues\")\n",
    "    plt.savefig(f'{filename}.png',  bbox_inches='tight')\n",
    "    plt.savefig(f'{filename}.svg',  bbox_inches='tight')"
   ]
  },
  {
   "cell_type": "code",
   "execution_count": null,
   "id": "5271c7ce-3c4b-4548-ac8d-1fd03dcbef9b",
   "metadata": {},
   "outputs": [],
   "source": [
    "# Generate the confusion matrix\n",
    "unique_labels = np.sort(newResults['scoreSA'].unique())\n",
    "mapping = {0: 'Very Negative (1)', 1: 'Negative (2)', 2: 'Neutral (3)', 3: 'Positive (4)', 4: 'Very Positive (5)'}\n",
    "\n",
    "# Applying mapping\n",
    "classes = [mapping[value] for value in unique_labels]"
   ]
  },
  {
   "cell_type": "code",
   "execution_count": null,
   "id": "277fc98a-f8a1-47d6-8635-81fb246dd88b",
   "metadata": {},
   "outputs": [],
   "source": [
    "cm_analysis(newResults['scoreSA'], newResults['predictedSentiment'], 'API', unique_labels, classes)"
   ]
  },
  {
   "cell_type": "code",
   "execution_count": null,
   "id": "bf9b64a6-3866-4630-a698-b5acdaba7a2a",
   "metadata": {},
   "outputs": [],
   "source": [
    "from sklearn.metrics import accuracy_score, balanced_accuracy_score, precision_score, recall_score, f1_score, precision_recall_fscore_support, mean_absolute_error\n",
    "\n",
    "accuracy = accuracy_score(newResults['scoreSA'], newResults['predictedSentiment'])\n",
    "precision_ALL = precision_score(newResults['scoreSA'], newResults['predictedSentiment'], average='macro')\n",
    "recall_ALL = recall_score(newResults['scoreSA'], newResults['predictedSentiment'], average='macro')\n",
    "f1_ALL = f1_score(newResults['scoreSA'], newResults['predictedSentiment'], average='macro')\n",
    "mae_ALL = mean_absolute_error(newResults['scoreSA'], newResults['predictedSentiment'])\n",
    "precision, recall, f1, support = precision_recall_fscore_support(newResults['scoreSA'], newResults['predictedSentiment'])"
   ]
  },
  {
   "cell_type": "code",
   "execution_count": null,
   "id": "5e69e1b1-6bd7-4c44-a9a1-79a151e749d1",
   "metadata": {},
   "outputs": [],
   "source": [
    "# Calculate accuracy for each class\n",
    "for i in range(len(unique_labels)):\n",
    "    temp = newResults[newResults[\"scoreSA\"] == i]\n",
    "    value = accuracy_score(temp['scoreSA'], temp['predictedSentiment'])\n",
    "    print(f'Label:\\t{i}\\t-\\tValue:\\t{value}')"
   ]
  },
  {
   "cell_type": "code",
   "execution_count": null,
   "id": "7e56bc89-7b8e-4e9b-9d4e-c7b6fbc9eb08",
   "metadata": {},
   "outputs": [],
   "source": [
    "accuracy"
   ]
  },
  {
   "cell_type": "code",
   "execution_count": null,
   "id": "304855d2-f840-4642-9b47-cceabc664ab0",
   "metadata": {},
   "outputs": [],
   "source": [
    "balanced_accuracy = balanced_accuracy_score(results['scoreSA'], results['predictedSentiment'])"
   ]
  },
  {
   "cell_type": "code",
   "execution_count": null,
   "id": "d5359fc4-672e-494d-9c29-1b7b5bc6742a",
   "metadata": {},
   "outputs": [],
   "source": [
    "balanced_accuracy"
   ]
  },
  {
   "cell_type": "code",
   "execution_count": null,
   "id": "7d2e2b25-67fa-46be-adfc-85e2ee0b93b8",
   "metadata": {},
   "outputs": [],
   "source": [
    "precision_ALL"
   ]
  },
  {
   "cell_type": "code",
   "execution_count": null,
   "id": "742c577e-f685-45be-91d7-aefc5c2d70e1",
   "metadata": {},
   "outputs": [],
   "source": [
    "f1_ALL"
   ]
  },
  {
   "cell_type": "code",
   "execution_count": null,
   "id": "6d006bf2-44ae-4ebe-842d-9b1491ba81cd",
   "metadata": {},
   "outputs": [],
   "source": [
    "recall_ALL"
   ]
  },
  {
   "cell_type": "code",
   "execution_count": null,
   "id": "f3e1468b-1d72-4c77-a6b2-0490cac68a5c",
   "metadata": {},
   "outputs": [],
   "source": [
    "mae_ALL"
   ]
  },
  {
   "cell_type": "code",
   "execution_count": null,
   "id": "3840f501-1dc9-44b8-8a9c-58635581916d",
   "metadata": {},
   "outputs": [],
   "source": [
    "f1"
   ]
  },
  {
   "cell_type": "code",
   "execution_count": null,
   "id": "2c7270e0-e59b-4c5f-b564-5d43ab6f947b",
   "metadata": {},
   "outputs": [],
   "source": [
    "precision"
   ]
  },
  {
   "cell_type": "code",
   "execution_count": null,
   "id": "eb5b47d4-f2a7-4ccd-8cbe-a9f694d238c4",
   "metadata": {},
   "outputs": [],
   "source": [
    "recall"
   ]
  },
  {
   "cell_type": "code",
   "execution_count": null,
   "id": "84c968bd-c651-4dae-99f5-4054572fca7d",
   "metadata": {},
   "outputs": [],
   "source": [
    "support"
   ]
  }
 ],
 "metadata": {
  "kernelspec": {
   "display_name": "Python 3 (ipykernel)",
   "language": "python",
   "name": "python3"
  },
  "language_info": {
   "codemirror_mode": {
    "name": "ipython",
    "version": 3
   },
   "file_extension": ".py",
   "mimetype": "text/x-python",
   "name": "python",
   "nbconvert_exporter": "python",
   "pygments_lexer": "ipython3",
   "version": "3.10.12"
  }
 },
 "nbformat": 4,
 "nbformat_minor": 5
}
