{
 "cells": [
  {
   "cell_type": "code",
   "execution_count": null,
   "id": "42c9951f-de7d-422b-823e-751ce2257bdb",
   "metadata": {},
   "outputs": [],
   "source": [
    "import os\n",
    "from groq import Groq\n",
    "import pandas as pd\n",
    "import numpy as np"
   ]
  },
  {
   "cell_type": "code",
   "execution_count": null,
   "id": "f2ddda98-7f34-41d2-b798-6f46879c2585",
   "metadata": {},
   "outputs": [],
   "source": [
    "apiKey = \"fill_it_here\""
   ]
  },
  {
   "cell_type": "code",
   "execution_count": null,
   "id": "77994b44-478a-4729-8611-3b77a25ee5f5",
   "metadata": {},
   "outputs": [],
   "source": [
    "client = Groq(\n",
    "    # api_key=os.environ.get(\"GROQ_API_KEY\"),\n",
    "    api_key= apiKey,\n",
    ")"
   ]
  },
  {
   "cell_type": "code",
   "execution_count": null,
   "id": "8bd4c777-0b4d-45c5-b3c6-bbf91516f52f",
   "metadata": {},
   "outputs": [],
   "source": [
    "dataset = pd.read_csv(\"keyphrases/done/keyphrases_NetflixMixtral_Done.csv\")"
   ]
  },
  {
   "cell_type": "code",
   "execution_count": null,
   "id": "8a4028ed-14ea-4b0d-a715-d6b5876b5e71",
   "metadata": {
    "scrolled": true
   },
   "outputs": [],
   "source": [
    "dataset"
   ]
  },
  {
   "cell_type": "code",
   "execution_count": null,
   "id": "687fd768-775b-4a8b-b5a6-84689845ccad",
   "metadata": {},
   "outputs": [],
   "source": [
    "score_counts_balanced = dataset['sentiment'].value_counts().sort_index()\n",
    "print(score_counts_balanced)"
   ]
  },
  {
   "cell_type": "code",
   "execution_count": null,
   "id": "5f1962b3-0b01-4d1c-bde1-511050e8b755",
   "metadata": {},
   "outputs": [],
   "source": [
    "train_data = dataset[['content', 'sentiment', 'Merged keyphrases_reduced 2']]\n",
    "train_data['row_number'] = train_data.index"
   ]
  },
  {
   "cell_type": "code",
   "execution_count": null,
   "id": "fba2c8a6-58a8-474a-ae0d-2063b78becc5",
   "metadata": {},
   "outputs": [],
   "source": [
    "train_data"
   ]
  },
  {
   "cell_type": "code",
   "execution_count": null,
   "id": "830178eb-0a18-4663-a59d-1788f6631607",
   "metadata": {
    "scrolled": true
   },
   "outputs": [],
   "source": [
    "list = []\n",
    "i = 0\n",
    "for index, row in train_data.iterrows():\n",
    "    text = row['content']\n",
    "    topics = row['Merged keyphrases_reduced 2']\n",
    "    string_message = f\"\"\"I need you to evaluate and assess the comment along with the set \n",
    "                of topics/keyphrases, categorizing their sentiment into one of \n",
    "                five levels: 1 - very negative, 2 - negative, 3 - neutral, 4 - \n",
    "                positive, 5 - very positive. Here are examples to guide your \n",
    "                classification:\n",
    "\n",
    "                1. Comment: \"They remove all the good movie and replaces the with really dumb stuff like get that fix! But some of the good dream work movies need to stay and will!!\"\n",
    "                Topics / Keyphrases: ['Old movies on Netflix', 'New movies on Netflix', 'User rating', 'Series availability', 'Content localization', 'Picture quality', 'Language preference', 'Streaming', 'Content selection', 'Regional differences']\n",
    "                Label: 1\n",
    "\n",
    "                2. Comment: \"Very bad. I think I got traumatised mentally physically. I don't think I can ever recover from This application causing me so much heartache from their bad bad shows and how bad their app is bad bad bad bad bad👎\"\n",
    "                Topics / Keyphrases: ['negative Netflix app experience', 'user frustration', 'inappropriate content in PG-rated shows', 'missing subtitles in Demon Slayer', 'frequent payment requests', 'user's dislike for Netflix app', 'inability to recover from strong negative emotions', 'canceling favorite shows', 'three-star rating due to poor quality', 'tear emoticon and emoji skull']\n",
    "                Label: 1\n",
    "\n",
    "                3. Comment: \"You're better off paying 14.99 for the hulu and Disney bundle, Netflix out here being greedy and trying to charge me 22.99 for sharing my account with my sick dad who's on a fixed income (mind you after lying and saying they were going to charge for sharing accounts). Now of its just you and you wanna support this bs that's fair to each their own but I know I'm not and I know a lot of people who are not when they finally try to enforce it all the way.\"\n",
    "                Topics / Keyphrases: ['UK/US app content release delay', 'Young Sheldon UK channel catch up', 'global video streaming content availability', 'Netflix user enjoyed paid subscription', 'out of hand subscription rates', 'greedy streaming services', 'fixed income shared accounts', 'video quality complaints', 'limited new content on Netflix', 'affordable streaming options']\n",
    "                Label: 1                \n",
    "\n",
    "                4. Comment: \"Netflix is a cancer you can't remove it from your tablet and it wastes my data by updating I have no control over my tablet I gave no permission for Netflix to install to my tablet I blame Samsung for allowing this in a country where they eat dogs I sure as hell won't be buying another tablet and phone from Samshit.\"\n",
    "                Topics / Keyphrases: ['Netflix user experience', 'Payment for Netflix service', 'Downloading episodes issue', 'Training without Netflix service', 'App automatic updates', 'Data usage concerns', 'Cancelled Netflix subscription', 'Continuing shows on app', 'App performance issues', 'Location limitations on Netflix']\n",
    "                Label: 1\n",
    "\n",
    "                5. Comment: \"They keep raising their prices when 8 out of 10 of the shows they put out are just trash. Therefore, Netflix is a trash service now, I just wish everyone would cancel their memberships for a while to hurt Netflix's wallet and send a message.\"\n",
    "                Topics / Keyphrases: ['Netflix price increases', 'user dissatisfaction', 'content value', 'user experience', 'lack of new content', 'justify price', 'user account management', 'payment', 'customer satisfaction', 'content appropriateness']\n",
    "                Label: 1\n",
    "\n",
    "                6. Comment: \"I've been fairly happy with Netflix until this recent update. I absolutely hate the layout, and everything else about the most recent update!\"\n",
    "                Topics / Keyphrases: ['continue watching shows disappearing on Netflix app', 'missing user-selected content on user's list', 'unexpected behavior of Netflix app', 'shows not scheduled to leave still missing', 'user frustration with Netflix app', 'user's opinion fairly happy with Netflix', 'negative feedback on recent update layout', 'user experience affected by recent update', 'Google Play Store Netflix app update issue', 'impact of recent update on user's opinion']\n",
    "                Label: 2\n",
    "\n",
    "                7. Comment: \"Good app but it's really annoying with the new Netflix household app. My dad owns the account, we both have two different houses and use different wifi networks on the same property, our houses are maybe a few thousand feet apart. And now I can't use Netflix without making another account, which we don't have the money for.\"\n",
    "                Topics / Keyphrases: ['Netflix app issues', 'Multiple user experiences', 'Different wifi networks', 'VPN restrictions', 'Library access problems', 'Resuming videos', 'App functionality bugs', 'User interface glitches', 'Geolocation restrictions', 'Customer service unresolved issues']\n",
    "                Label: 2\n",
    "                                \n",
    "                8. Comment: \"Netflix always cancels a series. Why begin watching something that will be canceled? Netflix is such a disappointment. I only watch series on HBO and Amazon Prime at the moment.\"\n",
    "                Topics / Keyphrases: ['Netflix series cancellation', 'disappointment with streaming services', 'value of Netflix', 'content removal', 'user frustration', 'app review', 'Netflix controversies', 'content recommendation', 'episode tracking issues', 'video streaming problems']\n",
    "                Label: 2\n",
    "                                                \n",
    "                9. Comment: \"Great movies at the beginning but now i can't watch them for free . I can only access it using a membership . why? I need answers from netflix\"\n",
    "                Topics / Keyphrases: ['Netflix app usage', 'user experience', 'app pricing', 'smart TV compatibility', 'movie availability', 'user entertainment', 'subscription required', 'app search functionality', 'content removal', 'app evaluation']\n",
    "                Label: 2                \n",
    "\n",
    "                10. Comment: \"I have been a customer with Netflix since 2006 except when I was in the hospital for long stays. They used to be the best for movies,and shows even picking up shows like Lucifer after the network dropped it. But now it is the worst streaming service around. Not only are they charging more their programs are terrible, they get movies and shows that are 10 years old or older.due to their greed they keep charging more and more and now they are going to cut back. I will not renew my subscription\"\n",
    "                Topics / Keyphrases: ['UK/US app content release delay', 'Young Sheldon UK channel catch up', 'global video streaming content availability', 'Netflix user enjoyed paid subscription', 'out of hand subscription rates', 'greedy streaming services', 'fixed income shared accounts', 'video quality complaints', 'limited new content on Netflix', 'affordable streaming options']\n",
    "                Label: 2\n",
    "\n",
    "                11. Comment: \"I like it but right now im being told to many devices but i clicked sign out all devices then signed back in and it still told me to many devices\"\n",
    "                Topics / Keyphrases: ['Netflix app device limitation', 'user signed out all devices', 'receiving too many devices message', 'Netflix account management issue', 'app freezing during playback', 'phone specific online streaming issues', 'available space not affecting performance', 'user frustration with Netflix app', 'need to sign back in after signing out', 'inability to resume video after freezing']\n",
    "                Label: 3\n",
    "\n",
    "                12. Comment: \"The app is amazing and awesome!,but the new look is really disturbing to the eyes and once it freezes there's gonna be a big problem.Apart from that the app is wonderful.\"\n",
    "                Topics / Keyphrases: ['Netflix app user experience', 'early payment request', 'download problems', 'app crashing', 'Fast Laughs feature issue', 'content and loading problems', 'technical issues', 'audio and video playback problems', 'subscription pricing', 'app performance errors']\n",
    "                Label: 3\n",
    "\n",
    "                13. Comment: \"Netflix just has too much space and all the apps I have are Snapchat, YouTube, and Netflix. No games. Plus Netflix keeps on doing a weird thing where I'm watching the episode and then it just goes straight to the next episode, to any of the Netflix staff members, please fix this issue, overall though I love it how I don't have to watch ads, so I'm rating it a 3 because it's not bad neither good, I hope that this was helpful to people that want to get Netflix :')\"\n",
    "                Topics / Keyphrases: ['Netflix removing popular shows', 'user frustration with limited content', 'add more seasons on Netflix', 'crowded watch list management', 'improve search function', 'Netflix storage space issues', 'auto-playing episodes control', 'improve user experience', 'Google Play Store user feedback', 'movie watching experience on Netflix']\n",
    "                Label: 3\n",
    "\n",
    "                14. Comment: \"Ok not Fantastic mostly got it for Seinfeld which is the all time best Comedy.theres most made for TV shows. Not many Movies.No James Bond or classic Westerns. They used to show Rawhide and Rockford Files and some very entertaining independent Films. I also like Comedies with Bill Murray and Steve Martin and Chevy Chase you don't see their movies either. One thing they have on here I do enjoy is the Breaking Bad franchise and Bill Pullman Detective Series. For most part they don't show much new.\"\n",
    "                Topics / Keyphrases: ['1970s & 80's TV watching vs. Netflix', 'Limited TV time and costly Netflix subscription', 'Sat am cartoons and Korean dramas on Netflix', 'PBS and other Korean apps for shows', 'Sports on weekends and Netflix trending shows last', 'Mary Tyler Moore and Doctor Romantic Season 3', 'Carol Burnett and Seinfeld as all-time best comedy', 'All in the Family and Breaking Bad franchise', 'Limited new shows', 'Highly disappointed with Netflix and enjoyment of classic Westerns']\n",
    "                Label: 3\n",
    "\n",
    "                15. Comment: \"The app is amazing and awesome!,but the new look is really disturbing to the eyes and once it freezes there's gonna be a big problem.Apart from that the app is wonderful.\"\n",
    "                Topics / Keyphrases: ['Netflix app user experience', 'early payment request', 'download problems', 'app crashing', 'Fast Laughs feature issue', 'content and loading problems', 'technical issues', 'audio and video playback problems', 'subscription pricing', 'app performance errors']\n",
    "                Label: 3\n",
    "\n",
    "                16. Comment: \"App User Interface is nice but video is not good so please redesign the video player.\"\n",
    "                Topics / Keyphrases: ['Netflix app user interface', 'positive comments', 'video quality', 'video player', 'redesign', 'Google Play Store', 'user feedback', 'suggestions for improvement', 'user experience', 'difficult navigation']\n",
    "                Label: 4\n",
    "\n",
    "                17. Comment: \"1. Excellent, but upload more movies, series and episodes. 2. Put the video in super HD quality to enjoy watching. 3. Fixed the screen for samsung galaxy s23 ultra, to make it in full screen. 4. More setting for this apps. 5. Avatar should be upload by our choice.\"\n",
    "                Topics / Keyphrases: ['user experience on Netflix App', 'request for more content', 'super HD quality', 'screen issues for Samsung', 'app settings & optimization', 'user avatar request', 'video quality concerns', 'menu video settings', 'Netflix on digital platforms', 'app performance improvements']\n",
    "                Label: 4\n",
    "\n",
    "                18. Comment: \"(I'm a kid) Alright it's great like PERFECT but it has to be 9.7/10 PLZ ADD BOURTO NAURTO THE NEXT GENERATION! HULU HAS IT BUT THAT SERVICE DOG WATER\"\n",
    "                Topics / Keyphrases: ['user feedback on Netflix app', 'request for show availability', 'importance of content variety', 'high app price issue', 'user enjoys using Netflix', 'Netflix best for movies and shows', 'handling Wi-Fi on mobile', 'canceled LGBTQIA+ shows', 'user opinions on Google Play Store', 'great watching experience on Netflix']\n",
    "                Label: 4\n",
    "\n",
    "                19. Comment: \"Netflix is an amazing app we can see non stop series and movies there is an one missing in Netflix is we all want to see language options that we automatically can chose language type movie most of movies are in other languages that we want see but because of language we can't see. Please see into this problem Thank you for this application\"\n",
    "                Topics / Keyphrases: ['Netflix app language options', 'user language preference', 'content localization', 'dub and sub versions', 'content variety', 'app performance', 'movie and series selection', 'geographical restrictions', 'viewer preferences', 'missing Hindi audio']\n",
    "                Label: 4\n",
    "\n",
    "                20. Comment: \"we all like to watch stuff but i think that you can inprove your channels because somtimes it gets boring so i think that it would be beter for a wednesday 2,3 and for some more kid films that audilts over 20 (max) likes too because so ppl hate kid films (there ........ lets just say ......BORING) so i think you can make better kid films that parents will watch with there chidren and make sure there all entertaned with list time funny happy saddless bey :) :) :) :)\"\n",
    "                Topics / Keyphrases: ['Netflix removing movies', 'user feedback on Netflix', 'improving channels', 'content variety', 'movies users like', 'Netflix price increase', 'foreign movies category', 'good quality of Netflix', 'new content rare', 'minority representation']\n",
    "                Label: 4\n",
    "\n",
    "                21. Comment: \"India best apps thanks u sir hindi dub K drama & Anime & Movie thanks u ( please anime hindi dub request)\"\n",
    "                Topics / Keyphrases: ['India', 'Best apps', 'Hindi', 'Dub', 'K drama', 'Anime', 'Movie', 'Anime Hindi dub', 'Family uses Netflix', 'Importance of Hindi dubbing']\n",
    "                Label: 5\n",
    "\n",
    "                22. Comment: \"This is the best thing for TV shows and movies me andy mom love this app and it works so WELL they have some great ideas for movie and TV shows and it is just so cool five star worthy definitely Netflix is better that the Roku channel and I thought I would never say that. I love this app and everything in it thank you Netflix\"\n",
    "                Topics / Keyphrases: ['user feedback on Netflix app', 'request for show availability', 'importance of content variety', 'high app price issue', 'user enjoys using Netflix', 'Netflix best for movies and shows', 'handling Wi-Fi on mobile', 'canceled LGBTQIA+ shows', 'user opinions on Google Play Store', 'great watching experience on Netflix']\n",
    "                Label: 5\n",
    "\n",
    "                23. Comment: \"Love every thing about Netflix. Really enjoy the movies of all kinds, especially Christmas Movies..❤❤❤\"\n",
    "                Topics / Keyphrases: ['User experience', 'Netflix app', 'Movie not opening', 'Uninstall Netflix', 'Regional language', 'Cultural representation', 'Content availability', 'User feedback', 'Value for money', 'Family friendly']\n",
    "                Label: 5\n",
    "\n",
    "                24. Comment: \"THANKS NETFLIX !!! YOU ARE THE BEST FOR ADDING ONE PIECE WEEKLY ANIME, PLUS LIVE ACTION , PLUS SPINOFF , PLUS WIT REBOOT , THANK YOU NETFLIX , LOVE YOU 💕😭 , AGAIN THANKS FOR THIS VERY MUCH YOU ARE THE BEST STREAMING SERVICE AND I WILL CONTINUE TO SUPPORT YOU THROUGH BUYING YOUR PLANS ! JUST KEEP ONE PIECE GOING , THANKS AGAIN !!!! 💕\"\n",
    "                Topics / Keyphrases: ['first time using Netflix', 'brother recommended Netflix', 'good user experience', 'trying Netflix now', 'supporting Netflix', 'love for Netflix', 'streaming service', 'watched Netflix on brother's account', 'adding One Piece weekly anime', 'keeping One Piece going']\n",
    "                Label: 5\n",
    "\n",
    "                25. Comment: \"I never have Netflix before but when my brother let me watch Netflix it was good! So I'm going to try it out now so Netflix is so so so so so! Good go and try it out now!!!!!!!:) (love precious ❤ 💖 💕 💗 💓 ♥)\"\n",
    "                Topics / Keyphrases: ['first time using Netflix', 'brother recommended Netflix', 'good user experience', 'trying Netflix now', 'supporting Netflix', 'love for Netflix', 'streaming service', 'watched Netflix on brother's account', 'adding One Piece weekly anime', 'keeping One Piece going']\n",
    "                Label: 5\n",
    "\n",
    "                Please provide the sentiment classification as a single number \n",
    "                (1, 2, 3, 4, or 5) and nothing more for the following comment:\n",
    "\n",
    "                Comment: \"{text}\"\n",
    "                Topics / Keyphrases: {topics}\n",
    "                Label: ?\n",
    "                \"\"\"\n",
    "    print(\"\\n\\n\")\n",
    "    print(string_message)\n",
    "    print(\"\\n\")\n",
    "    \n",
    "    chat_completion = client.chat.completions.create(\n",
    "        messages = [\n",
    "            {\n",
    "                \"role\": \"user\",\n",
    "                \"content\": f\"\"\"{string_message}\"\"\"\n",
    "            }\n",
    "    \n",
    "        ],\n",
    "        # model=\"llama3-8b-8192\",\n",
    "        model=\"mixtral-8x7b-32768\",\n",
    "    )\n",
    "    \n",
    "    armaz = chat_completion.choices[0].message.content\n",
    "    print(f'{index}:\\t{armaz}')\n",
    "    list.append(armaz)"
   ]
  },
  {
   "cell_type": "code",
   "execution_count": null,
   "id": "8e4116ac",
   "metadata": {},
   "outputs": [],
   "source": [
    "len(list)"
   ]
  },
  {
   "cell_type": "code",
   "execution_count": null,
   "id": "861d88d7",
   "metadata": {
    "scrolled": true
   },
   "outputs": [],
   "source": [
    "rest = train_data[len(list):]\n",
    "for index, row in rest.iterrows():\n",
    "    text = row['content']\n",
    "    topics = row['Merged keyphrases_reduced 2']\n",
    "    string_message = f\"\"\"I need you to evaluate and assess the comment along with the set \n",
    "                of topics/keyphrases, categorizing their sentiment into one of \n",
    "                five levels: 1 - very negative, 2 - negative, 3 - neutral, 4 - \n",
    "                positive, 5 - very positive. Here are examples to guide your \n",
    "                classification:\n",
    "\n",
    "                1. Comment: \"They remove all the good movie and replaces the with really dumb stuff like get that fix! But some of the good dream work movies need to stay and will!!\"\n",
    "                Topics / Keyphrases: ['Old movies on Netflix', 'New movies on Netflix', 'User rating', 'Series availability', 'Content localization', 'Picture quality', 'Language preference', 'Streaming', 'Content selection', 'Regional differences']\n",
    "                Label: 1\n",
    "\n",
    "                2. Comment: \"Very bad. I think I got traumatised mentally physically. I don't think I can ever recover from This application causing me so much heartache from their bad bad shows and how bad their app is bad bad bad bad bad👎\"\n",
    "                Topics / Keyphrases: ['negative Netflix app experience', 'user frustration', 'inappropriate content in PG-rated shows', 'missing subtitles in Demon Slayer', 'frequent payment requests', 'user's dislike for Netflix app', 'inability to recover from strong negative emotions', 'canceling favorite shows', 'three-star rating due to poor quality', 'tear emoticon and emoji skull']\n",
    "                Label: 1\n",
    "\n",
    "                3. Comment: \"You're better off paying 14.99 for the hulu and Disney bundle, Netflix out here being greedy and trying to charge me 22.99 for sharing my account with my sick dad who's on a fixed income (mind you after lying and saying they were going to charge for sharing accounts). Now of its just you and you wanna support this bs that's fair to each their own but I know I'm not and I know a lot of people who are not when they finally try to enforce it all the way.\"\n",
    "                Topics / Keyphrases: ['UK/US app content release delay', 'Young Sheldon UK channel catch up', 'global video streaming content availability', 'Netflix user enjoyed paid subscription', 'out of hand subscription rates', 'greedy streaming services', 'fixed income shared accounts', 'video quality complaints', 'limited new content on Netflix', 'affordable streaming options']\n",
    "                Label: 1                \n",
    "\n",
    "                4. Comment: \"Netflix is a cancer you can't remove it from your tablet and it wastes my data by updating I have no control over my tablet I gave no permission for Netflix to install to my tablet I blame Samsung for allowing this in a country where they eat dogs I sure as hell won't be buying another tablet and phone from Samshit.\"\n",
    "                Topics / Keyphrases: ['Netflix user experience', 'Payment for Netflix service', 'Downloading episodes issue', 'Training without Netflix service', 'App automatic updates', 'Data usage concerns', 'Cancelled Netflix subscription', 'Continuing shows on app', 'App performance issues', 'Location limitations on Netflix']\n",
    "                Label: 1\n",
    "\n",
    "                5. Comment: \"They keep raising their prices when 8 out of 10 of the shows they put out are just trash. Therefore, Netflix is a trash service now, I just wish everyone would cancel their memberships for a while to hurt Netflix's wallet and send a message.\"\n",
    "                Topics / Keyphrases: ['Netflix price increases', 'user dissatisfaction', 'content value', 'user experience', 'lack of new content', 'justify price', 'user account management', 'payment', 'customer satisfaction', 'content appropriateness']\n",
    "                Label: 1\n",
    "\n",
    "                6. Comment: \"I've been fairly happy with Netflix until this recent update. I absolutely hate the layout, and everything else about the most recent update!\"\n",
    "                Topics / Keyphrases: ['continue watching shows disappearing on Netflix app', 'missing user-selected content on user's list', 'unexpected behavior of Netflix app', 'shows not scheduled to leave still missing', 'user frustration with Netflix app', 'user's opinion fairly happy with Netflix', 'negative feedback on recent update layout', 'user experience affected by recent update', 'Google Play Store Netflix app update issue', 'impact of recent update on user's opinion']\n",
    "                Label: 2\n",
    "\n",
    "                7. Comment: \"Good app but it's really annoying with the new Netflix household app. My dad owns the account, we both have two different houses and use different wifi networks on the same property, our houses are maybe a few thousand feet apart. And now I can't use Netflix without making another account, which we don't have the money for.\"\n",
    "                Topics / Keyphrases: ['Netflix app issues', 'Multiple user experiences', 'Different wifi networks', 'VPN restrictions', 'Library access problems', 'Resuming videos', 'App functionality bugs', 'User interface glitches', 'Geolocation restrictions', 'Customer service unresolved issues']\n",
    "                Label: 2\n",
    "                                \n",
    "                8. Comment: \"Netflix always cancels a series. Why begin watching something that will be canceled? Netflix is such a disappointment. I only watch series on HBO and Amazon Prime at the moment.\"\n",
    "                Topics / Keyphrases: ['Netflix series cancellation', 'disappointment with streaming services', 'value of Netflix', 'content removal', 'user frustration', 'app review', 'Netflix controversies', 'content recommendation', 'episode tracking issues', 'video streaming problems']\n",
    "                Label: 2\n",
    "                                                \n",
    "                9. Comment: \"Great movies at the beginning but now i can't watch them for free . I can only access it using a membership . why? I need answers from netflix\"\n",
    "                Topics / Keyphrases: ['Netflix app usage', 'user experience', 'app pricing', 'smart TV compatibility', 'movie availability', 'user entertainment', 'subscription required', 'app search functionality', 'content removal', 'app evaluation']\n",
    "                Label: 2                \n",
    "\n",
    "                10. Comment: \"I have been a customer with Netflix since 2006 except when I was in the hospital for long stays. They used to be the best for movies,and shows even picking up shows like Lucifer after the network dropped it. But now it is the worst streaming service around. Not only are they charging more their programs are terrible, they get movies and shows that are 10 years old or older.due to their greed they keep charging more and more and now they are going to cut back. I will not renew my subscription\"\n",
    "                Topics / Keyphrases: ['UK/US app content release delay', 'Young Sheldon UK channel catch up', 'global video streaming content availability', 'Netflix user enjoyed paid subscription', 'out of hand subscription rates', 'greedy streaming services', 'fixed income shared accounts', 'video quality complaints', 'limited new content on Netflix', 'affordable streaming options']\n",
    "                Label: 2\n",
    "\n",
    "                11. Comment: \"I like it but right now im being told to many devices but i clicked sign out all devices then signed back in and it still told me to many devices\"\n",
    "                Topics / Keyphrases: ['Netflix app device limitation', 'user signed out all devices', 'receiving too many devices message', 'Netflix account management issue', 'app freezing during playback', 'phone specific online streaming issues', 'available space not affecting performance', 'user frustration with Netflix app', 'need to sign back in after signing out', 'inability to resume video after freezing']\n",
    "                Label: 3\n",
    "\n",
    "                12. Comment: \"The app is amazing and awesome!,but the new look is really disturbing to the eyes and once it freezes there's gonna be a big problem.Apart from that the app is wonderful.\"\n",
    "                Topics / Keyphrases: ['Netflix app user experience', 'early payment request', 'download problems', 'app crashing', 'Fast Laughs feature issue', 'content and loading problems', 'technical issues', 'audio and video playback problems', 'subscription pricing', 'app performance errors']\n",
    "                Label: 3\n",
    "\n",
    "                13. Comment: \"Netflix just has too much space and all the apps I have are Snapchat, YouTube, and Netflix. No games. Plus Netflix keeps on doing a weird thing where I'm watching the episode and then it just goes straight to the next episode, to any of the Netflix staff members, please fix this issue, overall though I love it how I don't have to watch ads, so I'm rating it a 3 because it's not bad neither good, I hope that this was helpful to people that want to get Netflix :')\"\n",
    "                Topics / Keyphrases: ['Netflix removing popular shows', 'user frustration with limited content', 'add more seasons on Netflix', 'crowded watch list management', 'improve search function', 'Netflix storage space issues', 'auto-playing episodes control', 'improve user experience', 'Google Play Store user feedback', 'movie watching experience on Netflix']\n",
    "                Label: 3\n",
    "\n",
    "                14. Comment: \"Ok not Fantastic mostly got it for Seinfeld which is the all time best Comedy.theres most made for TV shows. Not many Movies.No James Bond or classic Westerns. They used to show Rawhide and Rockford Files and some very entertaining independent Films. I also like Comedies with Bill Murray and Steve Martin and Chevy Chase you don't see their movies either. One thing they have on here I do enjoy is the Breaking Bad franchise and Bill Pullman Detective Series. For most part they don't show much new.\"\n",
    "                Topics / Keyphrases: ['1970s & 80's TV watching vs. Netflix', 'Limited TV time and costly Netflix subscription', 'Sat am cartoons and Korean dramas on Netflix', 'PBS and other Korean apps for shows', 'Sports on weekends and Netflix trending shows last', 'Mary Tyler Moore and Doctor Romantic Season 3', 'Carol Burnett and Seinfeld as all-time best comedy', 'All in the Family and Breaking Bad franchise', 'Limited new shows', 'Highly disappointed with Netflix and enjoyment of classic Westerns']\n",
    "                Label: 3\n",
    "\n",
    "                15. Comment: \"The app is amazing and awesome!,but the new look is really disturbing to the eyes and once it freezes there's gonna be a big problem.Apart from that the app is wonderful.\"\n",
    "                Topics / Keyphrases: ['Netflix app user experience', 'early payment request', 'download problems', 'app crashing', 'Fast Laughs feature issue', 'content and loading problems', 'technical issues', 'audio and video playback problems', 'subscription pricing', 'app performance errors']\n",
    "                Label: 3\n",
    "\n",
    "                16. Comment: \"App User Interface is nice but video is not good so please redesign the video player.\"\n",
    "                Topics / Keyphrases: ['Netflix app user interface', 'positive comments', 'video quality', 'video player', 'redesign', 'Google Play Store', 'user feedback', 'suggestions for improvement', 'user experience', 'difficult navigation']\n",
    "                Label: 4\n",
    "\n",
    "                17. Comment: \"1. Excellent, but upload more movies, series and episodes. 2. Put the video in super HD quality to enjoy watching. 3. Fixed the screen for samsung galaxy s23 ultra, to make it in full screen. 4. More setting for this apps. 5. Avatar should be upload by our choice.\"\n",
    "                Topics / Keyphrases: ['user experience on Netflix App', 'request for more content', 'super HD quality', 'screen issues for Samsung', 'app settings & optimization', 'user avatar request', 'video quality concerns', 'menu video settings', 'Netflix on digital platforms', 'app performance improvements']\n",
    "                Label: 4\n",
    "\n",
    "                18. Comment: \"(I'm a kid) Alright it's great like PERFECT but it has to be 9.7/10 PLZ ADD BOURTO NAURTO THE NEXT GENERATION! HULU HAS IT BUT THAT SERVICE DOG WATER\"\n",
    "                Topics / Keyphrases: ['user feedback on Netflix app', 'request for show availability', 'importance of content variety', 'high app price issue', 'user enjoys using Netflix', 'Netflix best for movies and shows', 'handling Wi-Fi on mobile', 'canceled LGBTQIA+ shows', 'user opinions on Google Play Store', 'great watching experience on Netflix']\n",
    "                Label: 4\n",
    "\n",
    "                19. Comment: \"Netflix is an amazing app we can see non stop series and movies there is an one missing in Netflix is we all want to see language options that we automatically can chose language type movie most of movies are in other languages that we want see but because of language we can't see. Please see into this problem Thank you for this application\"\n",
    "                Topics / Keyphrases: ['Netflix app language options', 'user language preference', 'content localization', 'dub and sub versions', 'content variety', 'app performance', 'movie and series selection', 'geographical restrictions', 'viewer preferences', 'missing Hindi audio']\n",
    "                Label: 4\n",
    "\n",
    "                20. Comment: \"we all like to watch stuff but i think that you can inprove your channels because somtimes it gets boring so i think that it would be beter for a wednesday 2,3 and for some more kid films that audilts over 20 (max) likes too because so ppl hate kid films (there ........ lets just say ......BORING) so i think you can make better kid films that parents will watch with there chidren and make sure there all entertaned with list time funny happy saddless bey :) :) :) :)\"\n",
    "                Topics / Keyphrases: ['Netflix removing movies', 'user feedback on Netflix', 'improving channels', 'content variety', 'movies users like', 'Netflix price increase', 'foreign movies category', 'good quality of Netflix', 'new content rare', 'minority representation']\n",
    "                Label: 4\n",
    "\n",
    "                21. Comment: \"India best apps thanks u sir hindi dub K drama & Anime & Movie thanks u ( please anime hindi dub request)\"\n",
    "                Topics / Keyphrases: ['India', 'Best apps', 'Hindi', 'Dub', 'K drama', 'Anime', 'Movie', 'Anime Hindi dub', 'Family uses Netflix', 'Importance of Hindi dubbing']\n",
    "                Label: 5\n",
    "\n",
    "                22. Comment: \"This is the best thing for TV shows and movies me andy mom love this app and it works so WELL they have some great ideas for movie and TV shows and it is just so cool five star worthy definitely Netflix is better that the Roku channel and I thought I would never say that. I love this app and everything in it thank you Netflix\"\n",
    "                Topics / Keyphrases: ['user feedback on Netflix app', 'request for show availability', 'importance of content variety', 'high app price issue', 'user enjoys using Netflix', 'Netflix best for movies and shows', 'handling Wi-Fi on mobile', 'canceled LGBTQIA+ shows', 'user opinions on Google Play Store', 'great watching experience on Netflix']\n",
    "                Label: 5\n",
    "\n",
    "                23. Comment: \"Love every thing about Netflix. Really enjoy the movies of all kinds, especially Christmas Movies..❤❤❤\"\n",
    "                Topics / Keyphrases: ['User experience', 'Netflix app', 'Movie not opening', 'Uninstall Netflix', 'Regional language', 'Cultural representation', 'Content availability', 'User feedback', 'Value for money', 'Family friendly']\n",
    "                Label: 5\n",
    "\n",
    "                24. Comment: \"THANKS NETFLIX !!! YOU ARE THE BEST FOR ADDING ONE PIECE WEEKLY ANIME, PLUS LIVE ACTION , PLUS SPINOFF , PLUS WIT REBOOT , THANK YOU NETFLIX , LOVE YOU 💕😭 , AGAIN THANKS FOR THIS VERY MUCH YOU ARE THE BEST STREAMING SERVICE AND I WILL CONTINUE TO SUPPORT YOU THROUGH BUYING YOUR PLANS ! JUST KEEP ONE PIECE GOING , THANKS AGAIN !!!! 💕\"\n",
    "                Topics / Keyphrases: ['first time using Netflix', 'brother recommended Netflix', 'good user experience', 'trying Netflix now', 'supporting Netflix', 'love for Netflix', 'streaming service', 'watched Netflix on brother's account', 'adding One Piece weekly anime', 'keeping One Piece going']\n",
    "                Label: 5\n",
    "\n",
    "                25. Comment: \"I never have Netflix before but when my brother let me watch Netflix it was good! So I'm going to try it out now so Netflix is so so so so so! Good go and try it out now!!!!!!!:) (love precious ❤ 💖 💕 💗 💓 ♥)\"\n",
    "                Topics / Keyphrases: ['first time using Netflix', 'brother recommended Netflix', 'good user experience', 'trying Netflix now', 'supporting Netflix', 'love for Netflix', 'streaming service', 'watched Netflix on brother's account', 'adding One Piece weekly anime', 'keeping One Piece going']\n",
    "                Label: 5\n",
    "\n",
    "                Please provide the sentiment classification as a single number \n",
    "                (1, 2, 3, 4, or 5) and nothing more for the following comment:\n",
    "\n",
    "                Comment: \"{text}\"\n",
    "                Topics / Keyphrases: {topics}\n",
    "                Label: ?\n",
    "                \"\"\"\n",
    "    print(\"\\n\\n\")\n",
    "    print(string_message)\n",
    "    print(\"\\n\")\n",
    "    \n",
    "    chat_completion = client.chat.completions.create(\n",
    "        messages = [\n",
    "            {\n",
    "                \"role\": \"user\",\n",
    "                \"content\": f\"\"\"{string_message}\"\"\"\n",
    "            }\n",
    "    \n",
    "        ],\n",
    "        # model=\"llama3-8b-8192\",\n",
    "        model=\"mixtral-8x7b-32768\",\n",
    "    )\n",
    "    \n",
    "    armaz = chat_completion.choices[0].message.content\n",
    "    print(f'{index}:\\t{armaz}')\n",
    "    list.append(armaz)"
   ]
  },
  {
   "cell_type": "code",
   "execution_count": null,
   "id": "95f2e073",
   "metadata": {},
   "outputs": [],
   "source": [
    "len(list)"
   ]
  },
  {
   "cell_type": "code",
   "execution_count": null,
   "id": "c8ac31f3",
   "metadata": {},
   "outputs": [],
   "source": [
    "# list.pop()"
   ]
  },
  {
   "cell_type": "code",
   "execution_count": null,
   "id": "4cb01ea1",
   "metadata": {},
   "outputs": [],
   "source": [
    "list"
   ]
  },
  {
   "cell_type": "code",
   "execution_count": null,
   "id": "33ac5326",
   "metadata": {},
   "outputs": [],
   "source": [
    "train_data['predictedSentiment'] = pd.Series(list)"
   ]
  },
  {
   "cell_type": "code",
   "execution_count": null,
   "id": "eab6a801",
   "metadata": {},
   "outputs": [],
   "source": [
    "train_data"
   ]
  },
  {
   "cell_type": "code",
   "execution_count": null,
   "id": "1ee6f5b2-37a9-467f-9547-0078a9fa2d92",
   "metadata": {},
   "outputs": [],
   "source": [
    "import re\n",
    "\n",
    "def contains_number(s):\n",
    "    return any(char.isdigit() for char in s)\n",
    "\n",
    "def findNumbers(string):\n",
    "    # Find all numbers in the string\n",
    "    numbers = None\n",
    "    if(contains_number(string)):\n",
    "        numbers = re.findall(r'\\d+', string)\n",
    "    else:\n",
    "        numbers = \"\"\n",
    "    \n",
    "    # Convert the numbers to integers\n",
    "    \n",
    "    numbers = [int(x) for x in numbers]\n",
    "    \n",
    "    if(len(numbers)>0):\n",
    "        x = numbers[0]-1\n",
    "    else:\n",
    "        x = -1\n",
    "    return x"
   ]
  },
  {
   "cell_type": "code",
   "execution_count": null,
   "id": "7345af7a-5900-4033-8a93-760c4fe213f3",
   "metadata": {},
   "outputs": [],
   "source": [
    "formated = train_data['predictedSentiment'].apply(findNumbers)"
   ]
  },
  {
   "cell_type": "code",
   "execution_count": null,
   "id": "a345ca9b-fabb-4b80-96e0-b80c35eadd6d",
   "metadata": {},
   "outputs": [],
   "source": [
    "train_data['predictedSentiment'] = formated"
   ]
  },
  {
   "cell_type": "code",
   "execution_count": null,
   "id": "b49172a7-64e8-4f77-b8a4-8a9162125078",
   "metadata": {
    "scrolled": true
   },
   "outputs": [],
   "source": [
    "train_data"
   ]
  },
  {
   "cell_type": "code",
   "execution_count": null,
   "id": "09c52c78-2cd1-4f8e-8e45-e15312e86971",
   "metadata": {},
   "outputs": [],
   "source": [
    "train_data.to_csv('mixtralOutput/topics/filenameNetflixFewShotMixtral-T.csv', index=False)"
   ]
  },
  {
   "cell_type": "code",
   "execution_count": null,
   "id": "129beb56-7a49-4006-9413-b3602e063214",
   "metadata": {},
   "outputs": [],
   "source": [
    "results = pd.read_csv(\"mixtralOutput/topics/filenameNetflixFewShotMixtral-T.csv\")"
   ]
  },
  {
   "cell_type": "code",
   "execution_count": null,
   "id": "0d9302f2-6c19-4b27-97f2-4b0ae0966dc6",
   "metadata": {},
   "outputs": [],
   "source": [
    "results"
   ]
  },
  {
   "cell_type": "code",
   "execution_count": null,
   "id": "c76eb963-bfd0-4c7c-b1d0-bfe024f9fe36",
   "metadata": {},
   "outputs": [],
   "source": [
    "results['predictedSentiment'].value_counts().sort_index()"
   ]
  },
  {
   "cell_type": "code",
   "execution_count": null,
   "id": "bf0cb9d1-dd9c-4854-8419-9648282d2574",
   "metadata": {},
   "outputs": [],
   "source": [
    "filtered_df = results[results[\"predictedSentiment\"] == -1]"
   ]
  },
  {
   "cell_type": "code",
   "execution_count": null,
   "id": "d342cb98-0b35-4adc-b641-68c000caf960",
   "metadata": {},
   "outputs": [],
   "source": [
    "filtered_df"
   ]
  },
  {
   "cell_type": "code",
   "execution_count": null,
   "id": "ceb610be-3340-4575-bf27-5b5a91f19176",
   "metadata": {},
   "outputs": [],
   "source": [
    "newResults = results[results[\"predictedSentiment\"] != -1]"
   ]
  },
  {
   "cell_type": "code",
   "execution_count": null,
   "id": "626e985f-2774-4bf1-91a1-de86e1c1d57f",
   "metadata": {},
   "outputs": [],
   "source": [
    "newResults"
   ]
  },
  {
   "cell_type": "code",
   "execution_count": null,
   "id": "d2f7c927-9f0d-4c55-92fb-7cb6e1812911",
   "metadata": {},
   "outputs": [],
   "source": [
    "from matplotlib.ticker import PercentFormatter\n",
    "import matplotlib.pyplot as plt\n",
    "import seaborn as sns\n",
    "from sklearn.metrics import confusion_matrix\n",
    "\n",
    "def cm_analysis(y_true, y_pred, filename, labels, classes, ymap=None, figsize=(17,17)):\n",
    "    \"\"\"\n",
    "    Generate matrix plot of confusion matrix with pretty annotations.\n",
    "    The plot image is saved to disk.\n",
    "    args: \n",
    "      y_true:    true label of the data, with shape (nsamples,)\n",
    "      y_pred:    prediction of the data, with shape (nsamples,)\n",
    "      filename:  filename of figure file to save\n",
    "      labels:    string array, name the order of class labels in the confusion matrix.\n",
    "                 use `clf.classes_` if using scikit-learn models.\n",
    "                 with shape (nclass,).\n",
    "      classes:   aliases for the labels. String array to be shown in the cm plot.\n",
    "      ymap:      dict: any -> string, length == nclass.\n",
    "                 if not None, map the labels & ys to more understandable strings.\n",
    "                 Caution: original y_true, y_pred and labels must align.\n",
    "      figsize:   the size of the figure plotted.\n",
    "    \"\"\"\n",
    "    sns.set(font_scale=2.8)\n",
    "\n",
    "    if ymap is not None:\n",
    "        y_pred = [ymap[yi] for yi in y_pred]\n",
    "        y_true = [ymap[yi] for yi in y_true]\n",
    "        labels = [ymap[yi] for yi in labels]\n",
    "    cm = confusion_matrix(y_true, y_pred, labels=labels)\n",
    "    cm_sum = np.sum(cm, axis=1, keepdims=True)\n",
    "    cm_perc = cm / cm_sum.astype(float) * 100\n",
    "    annot = np.empty_like(cm).astype(str)\n",
    "    nrows, ncols = cm.shape\n",
    "    for i in range(nrows):\n",
    "        for j in range(ncols):\n",
    "            c = cm[i, j]\n",
    "            p = cm_perc[i, j]\n",
    "            if i == j:\n",
    "                s = cm_sum[i]\n",
    "                annot[i, j] = '%.2f%%\\n%d/%d' % (p, c, s)\n",
    "            #elif c == 0:\n",
    "            #    annot[i, j] = ''\n",
    "            else:\n",
    "                annot[i, j] = '%.2f%%\\n%d' % (p, c)\n",
    "    cm = confusion_matrix(y_true, y_pred, labels=labels, normalize='true')\n",
    "    cm = pd.DataFrame(cm, index=labels, columns=labels)\n",
    "    cm = cm * 100\n",
    "    cm.index.name = 'True Label'\n",
    "    cm.columns.name = 'Predicted Label'\n",
    "    fig, ax = plt.subplots(figsize=figsize)\n",
    "    plt.yticks(va='center')\n",
    "\n",
    "    sns.heatmap(cm, annot=annot, fmt='', ax=ax, xticklabels=classes, cbar=True, cbar_kws={'format':PercentFormatter()}, yticklabels=classes, cmap=\"Blues\")\n",
    "    plt.savefig(f'{filename}.png',  bbox_inches='tight')\n",
    "    plt.savefig(f'{filename}.svg',  bbox_inches='tight')"
   ]
  },
  {
   "cell_type": "code",
   "execution_count": null,
   "id": "5271c7ce-3c4b-4548-ac8d-1fd03dcbef9b",
   "metadata": {},
   "outputs": [],
   "source": [
    "# Generate the confusion matrix\n",
    "unique_labels = np.sort(newResults['scoreSA'].unique())\n",
    "mapping = {0: 'Very Negative (1)', 1: 'Negative (2)', 2: 'Neutral (3)', 3: 'Positive (4)', 4: 'Very Positive (5)'}\n",
    "\n",
    "# Applying mapping\n",
    "classes = [mapping[value] for value in unique_labels]"
   ]
  },
  {
   "cell_type": "code",
   "execution_count": null,
   "id": "277fc98a-f8a1-47d6-8635-81fb246dd88b",
   "metadata": {},
   "outputs": [],
   "source": [
    "cm_analysis(newResults['scoreSA'], newResults['predictedSentiment'], 'API', unique_labels, classes)"
   ]
  },
  {
   "cell_type": "code",
   "execution_count": null,
   "id": "bf9b64a6-3866-4630-a698-b5acdaba7a2a",
   "metadata": {},
   "outputs": [],
   "source": [
    "from sklearn.metrics import accuracy_score, balanced_accuracy_score, precision_score, recall_score, f1_score, precision_recall_fscore_support, mean_absolute_error\n",
    "\n",
    "accuracy = accuracy_score(newResults['scoreSA'], newResults['predictedSentiment'])\n",
    "precision_ALL = precision_score(newResults['scoreSA'], newResults['predictedSentiment'], average='macro')\n",
    "recall_ALL = recall_score(newResults['scoreSA'], newResults['predictedSentiment'], average='macro')\n",
    "f1_ALL = f1_score(newResults['scoreSA'], newResults['predictedSentiment'], average='macro')\n",
    "mae_ALL = mean_absolute_error(newResults['scoreSA'], newResults['predictedSentiment'])\n",
    "precision, recall, f1, support = precision_recall_fscore_support(newResults['scoreSA'], newResults['predictedSentiment'])"
   ]
  },
  {
   "cell_type": "code",
   "execution_count": null,
   "id": "5e69e1b1-6bd7-4c44-a9a1-79a151e749d1",
   "metadata": {},
   "outputs": [],
   "source": [
    "# Calculate accuracy for each class\n",
    "for i in range(len(unique_labels)):\n",
    "    temp = newResults[newResults[\"scoreSA\"] == i]\n",
    "    value = accuracy_score(temp['scoreSA'], temp['predictedSentiment'])\n",
    "    print(f'Label:\\t{i}\\t-\\tValue:\\t{value}')"
   ]
  },
  {
   "cell_type": "code",
   "execution_count": null,
   "id": "7e56bc89-7b8e-4e9b-9d4e-c7b6fbc9eb08",
   "metadata": {},
   "outputs": [],
   "source": [
    "accuracy"
   ]
  },
  {
   "cell_type": "code",
   "execution_count": null,
   "id": "304855d2-f840-4642-9b47-cceabc664ab0",
   "metadata": {},
   "outputs": [],
   "source": [
    "balanced_accuracy = balanced_accuracy_score(results['scoreSA'], results['predictedSentiment'])"
   ]
  },
  {
   "cell_type": "code",
   "execution_count": null,
   "id": "d5359fc4-672e-494d-9c29-1b7b5bc6742a",
   "metadata": {},
   "outputs": [],
   "source": [
    "balanced_accuracy"
   ]
  },
  {
   "cell_type": "code",
   "execution_count": null,
   "id": "7d2e2b25-67fa-46be-adfc-85e2ee0b93b8",
   "metadata": {},
   "outputs": [],
   "source": [
    "precision_ALL"
   ]
  },
  {
   "cell_type": "code",
   "execution_count": null,
   "id": "6d006bf2-44ae-4ebe-842d-9b1491ba81cd",
   "metadata": {},
   "outputs": [],
   "source": [
    "recall_ALL"
   ]
  },
  {
   "cell_type": "code",
   "execution_count": null,
   "id": "742c577e-f685-45be-91d7-aefc5c2d70e1",
   "metadata": {},
   "outputs": [],
   "source": [
    "f1_ALL"
   ]
  },
  {
   "cell_type": "code",
   "execution_count": null,
   "id": "f3e1468b-1d72-4c77-a6b2-0490cac68a5c",
   "metadata": {},
   "outputs": [],
   "source": [
    "mae_ALL"
   ]
  },
  {
   "cell_type": "code",
   "execution_count": null,
   "id": "2c7270e0-e59b-4c5f-b564-5d43ab6f947b",
   "metadata": {},
   "outputs": [],
   "source": [
    "precision"
   ]
  },
  {
   "cell_type": "code",
   "execution_count": null,
   "id": "eb5b47d4-f2a7-4ccd-8cbe-a9f694d238c4",
   "metadata": {},
   "outputs": [],
   "source": [
    "recall"
   ]
  },
  {
   "cell_type": "code",
   "execution_count": null,
   "id": "3840f501-1dc9-44b8-8a9c-58635581916d",
   "metadata": {},
   "outputs": [],
   "source": [
    "f1"
   ]
  },
  {
   "cell_type": "code",
   "execution_count": null,
   "id": "84c968bd-c651-4dae-99f5-4054572fca7d",
   "metadata": {},
   "outputs": [],
   "source": [
    "support"
   ]
  }
 ],
 "metadata": {
  "kernelspec": {
   "display_name": "Python 3 (ipykernel)",
   "language": "python",
   "name": "python3"
  },
  "language_info": {
   "codemirror_mode": {
    "name": "ipython",
    "version": 3
   },
   "file_extension": ".py",
   "mimetype": "text/x-python",
   "name": "python",
   "nbconvert_exporter": "python",
   "pygments_lexer": "ipython3",
   "version": "3.10.12"
  }
 },
 "nbformat": 4,
 "nbformat_minor": 5
}
