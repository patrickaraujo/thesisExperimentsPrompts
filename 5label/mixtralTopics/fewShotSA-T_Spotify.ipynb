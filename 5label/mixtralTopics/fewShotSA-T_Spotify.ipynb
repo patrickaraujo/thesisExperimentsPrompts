{
 "cells": [
  {
   "cell_type": "code",
   "execution_count": null,
   "id": "42c9951f-de7d-422b-823e-751ce2257bdb",
   "metadata": {},
   "outputs": [],
   "source": [
    "import os\n",
    "from groq import Groq\n",
    "import pandas as pd\n",
    "import numpy as np"
   ]
  },
  {
   "cell_type": "code",
   "execution_count": null,
   "id": "f2ddda98-7f34-41d2-b798-6f46879c2585",
   "metadata": {},
   "outputs": [],
   "source": [
    "apiKey = \"fill_it_here\""
   ]
  },
  {
   "cell_type": "code",
   "execution_count": null,
   "id": "77994b44-478a-4729-8611-3b77a25ee5f5",
   "metadata": {},
   "outputs": [],
   "source": [
    "client = Groq(\n",
    "    # api_key=os.environ.get(\"GROQ_API_KEY\"),\n",
    "    api_key= apiKey,\n",
    ")"
   ]
  },
  {
   "cell_type": "code",
   "execution_count": null,
   "id": "8bd4c777-0b4d-45c5-b3c6-bbf91516f52f",
   "metadata": {},
   "outputs": [],
   "source": [
    "dataset = pd.read_csv(\"keyphrases/done/keyphrases_SpotifyMixtral_Done.csv\")"
   ]
  },
  {
   "cell_type": "code",
   "execution_count": null,
   "id": "8a4028ed-14ea-4b0d-a715-d6b5876b5e71",
   "metadata": {
    "scrolled": true
   },
   "outputs": [],
   "source": [
    "dataset"
   ]
  },
  {
   "cell_type": "code",
   "execution_count": null,
   "id": "687fd768-775b-4a8b-b5a6-84689845ccad",
   "metadata": {},
   "outputs": [],
   "source": [
    "score_counts_balanced = dataset['sentiment'].value_counts().sort_index()\n",
    "print(score_counts_balanced)"
   ]
  },
  {
   "cell_type": "code",
   "execution_count": null,
   "id": "5f1962b3-0b01-4d1c-bde1-511050e8b755",
   "metadata": {},
   "outputs": [],
   "source": [
    "train_data = dataset[['content', 'sentiment', 'Merged keyphrases_reduced 2']]\n",
    "train_data['row_number'] = train_data.index"
   ]
  },
  {
   "cell_type": "code",
   "execution_count": null,
   "id": "fba2c8a6-58a8-474a-ae0d-2063b78becc5",
   "metadata": {},
   "outputs": [],
   "source": [
    "train_data"
   ]
  },
  {
   "cell_type": "code",
   "execution_count": null,
   "id": "830178eb-0a18-4663-a59d-1788f6631607",
   "metadata": {
    "scrolled": true
   },
   "outputs": [],
   "source": [
    "list = []\n",
    "i = 0\n",
    "for index, row in train_data.iterrows():\n",
    "    text = row['content']\n",
    "    topics = row['Merged keyphrases_reduced 2']\n",
    "    string_message = f\"\"\"I need you to evaluate and assess the comment along with the set of topics/keyphrases, categorizing their sentiment into one of five levels: 1 - very negative, 2 - negative, 3 - neutral, 4 - positive, 5 - very positive. Here are examples to guide your classification:\n",
    "\n",
    "\n",
    "                1. Comment: \"Terrible. I won't repeat what the other reviews have said, the continuous ads are so intrusive and time-consuming with the free version. Now that they are joining the likes of other silicone valley politics and starting to censor people, I am officially done with Spotify. I was honestly considering premium to avoid the ads, but then the censorship started.\"\n",
    "                Topics / Keyphrases: ['Spotify ads frequency increase', 'User experience with excessive ads', 'Pressure to purchase Spotify Premium', 'Comparison of ads frequency with JioSaavn', 'Ads mid-song and poor timing', 'Ads from liberal companies and censorship', 'Song search and free version limitations', 'Users compelled to premium by irritating ads', 'Alternative music apps 0with less ads', 'Improve user experience by reducing ads']\n",
    "                Label: 1\n",
    "\n",
    "                2. Comment: \"ads and limited skips are annoying. you could literally download songs from free music apps and listen to it offline, unlimited skips and choose whatever songs you want. i used Spotify for a few weeks now and i think I'll go back using Music instead of this app.\"\n",
    "                Topics / Keyphrases: ['Spotify app issues', 'song identification problems', 'music playback interruptions', 'user experience with ads', 'limited skipping in free version', 'paying for premium features', 'annoying frequency of ads', 'user frustration with restrictions', 'comparison with YouTube music', 'recommendations for improvements']\n",
    "                Label: 1\n",
    "\n",
    "                3. Comment: \"Poor music site with bad ethics. They were better in the past but the direction they went over the past 4 years is just a bad user experience. There are better music app services. Don't recommend at all.\"\n",
    "                Topics / Keyphrases: ['user experience with Spotify app', 'issue with ads during music streaming', 'negative feedback on commercials in podcasts', 'premium subscription vs. free version', 'user complaints on company values', 'limited song selection on Spotify', 'program evaluation and user opinion', 'limited interruptions as user preference', 'fairness in ad system', 'overall positive reviews with concerns']\n",
    "                Label: 1\n",
    "\n",
    "                4. Comment: \"Really glitchy lately. Just keeps stopping every 5 seconds. Then starts playing even when the app isnt open. I pay a subscription fee but am going to have to cancel. This is ridiculous now.\"\n",
    "                Topics / Keyphrases: ['Spotify app issues', 'unexpected app behavior', 'playback errors', 'subscription fee', 'app crashes', 'startup problems', 'user experience issues', 'media control problems', 'disappearing playbars and liked songs', 'developer practices critique']\n",
    "                Label: 1\n",
    "\n",
    "                5. Comment: \"Cannot login to my account at all. The app is repeatedly crashing. It sends the login link to my email, says it's valid for 4 hours but the link says it's expired. Nonsense.\"\n",
    "                Topics / Keyphrases: ['Spotify app issues', 'Login problems', 'Uninstallation difficulties', 'Download stuck', 'Offline functionality', 'Connection errors', 'User experience problems', 'Internal storage permission', 'File access issues', 'Playback interruptions']\n",
    "                Label: 1\n",
    "\n",
    "                6. Comment: \"I like the app but I wanted to mostly use it for offline purposes but ever since a few days after I downloaded my download audio kept dissapearing\"\n",
    "                Topics / Keyphrases: ['Spotify app issues', 'user experience problems', 'disappearing downloads', 'music playlist management', 'song availability', 'app freezing', 'censorship of podcasts', 'feature removal', 'unintended playlist changes', 'Spotify updates with Google Maps']\n",
    "                Label: 2\n",
    "\n",
    "                7. Comment: \"Where is my Car Mode?! You deleted it? Whyy, it was so useful, now i need to lock into phone during driving to change song.. thats stupid.\"\n",
    "                Topics / Keyphrases: ['user comment', 'Google Play Store', 'Spotify App', 'user experience', 'missing feature', 'phone use while driving', 'music playback', 'app crashes', 'last update problem', 'request for fix']\n",
    "                Label: 2\n",
    "\n",
    "                8. Comment: \"GIVE THE OPTION TO DISABLE THE VOLUME SYNC WITH SPOTIFY CONNECT FOR CHRIST SAKE!!! I have multiple Connect devices and I don't want them locked together at the same volume. THIS IS A BIG ISSUE THAT IS AN EASY FIX FOR YOU!! Listen to your (paying) users because a quick Google search shows this is a common issue. 5 stars if this petty issue is fixed.\"\n",
    "                Topics / Keyphrases: ['user control over content visibility', 'Spotify Connect volume sync issue', 'going for a drive notification complaint', 'Spotify app music playback stops', 'media bar change issues in update', 'Samsung S22 music streaming issues', 'shuffle default playlist concern', 'missing play button issue', 'pause unpause button placement complaint', 'Spotify update clear app issue']\n",
    "                Label: 2\n",
    "\n",
    "                9. Comment: \"It used to be so good, I had premium for years and i still would. But its not worth it anymore. Its super glitchy and buggy, even in premium. They tried to simplify it and 'have better used experience' but all that they did was make it bad. Please go back a version or two and keep it that way. I used to love the app\"\n",
    "                Topics / Keyphrases: ['Spotify Premium issues', 'app glitches and bugs', 'poor audio quality', 'user experience decline', 'volume control problems', 'offline playback issues', 'feature removal', 'user complaints', 'alternative music services', 'Spotify app control problems']\n",
    "                Label: 2\n",
    "\n",
    "                10. Comment: \"GREAT!app just don't like the so many apps and the constant add asking you to get Spotify premium. The other thing that annoys me is the limited skips and when I search up a song it won't let me play it it plays a playlist instead and I can't skip it all the time because I don't have anymore skips!\"\n",
    "                Topics / Keyphrases: ['Spotify app issues', 'user experience complaints', 'limited song skips', 'annoying ads', 'songs playlist mix ups', 'app instability', 'inaccurate podcast info', 'playlist starting automatically', 'song liking problem', 'user feedback']\n",
    "                Label: 2\n",
    "\n",
    "                11. Comment: \"The free accounts are ok. I get the ads but I really dont think it is great that you cannot choose what song you want to play with a free account. It is a good music streaming service though and I will recommend but they need to work on some of the free account features.\"\n",
    "                Topics / Keyphrases: ['Spotify app restrictions', 'premium subscription', 'free accounts', 'user experience', 'music streaming service', 'song limitation', 'additional cost', 'app functionality', 'offline playback issue', 'playlist navigation']\n",
    "                Label: 3\n",
    "\n",
    "                12. Comment: \"I've strong network connection but sometimes this app shows there is a network problem so that lyrics can't be load. Don't know why does it happens! And after 2 or 3 Times reboot, the app shows the lyrics, you know when you're looking for lyrics and lyrics aren't here, it ruins the mood\"\n",
    "                Topics / Keyphrases: ['Spotify app issues', 'network connection problems', 'song playback issues', 'user experience', 'media bar disappears', 'song repetition', 'liked music not playing', 'payment issues', 'party connectivity', 'confusing interface']\n",
    "                Label: 3\n",
    "\n",
    "                13. Comment: \"It has alot of good songs but there is the point that only premeum can skip ads and have free skips and they add songs of their own that they think you'll like but i hate them its a great app apart from that\"\n",
    "                Topics / Keyphrases: ['Spotify app', 'user experience', 'limited free skips', 'premium feature for ads skipping', 'songs selection', 'offensive ads', 'user complaints', 'deceitful programming', 'forced shuffle feature', 'music streaming']\n",
    "                Label: 3\n",
    "\n",
    "                14. Comment: \"The app works well and I don't mind the ads. But I think that it should have an option to play in shuffle or play in the order the songs are in; I make my playlists in the order I like them, so shuffle being the only option makes it frustrating.\"\n",
    "                Topics / Keyphrases: ['music streaming experience', 'Spotify app features', 'song customization', 'user frustration', 'playlist creation', 'song previews', '10k song limit', 'shuffle mode', 'period pad ads', 'Spotify Premium recommendation']\n",
    "                Label: 3\n",
    "\n",
    "                15. Comment: \"I've loved the app so far, the interface... organization..but I was logged out this evening and it's refusing to log me in. This is sad. Please fix it\"\n",
    "                Topics / Keyphrases: ['Spotify app login issues', 'user experience problems', 'email password recovery', 'local files playback', 'account compatibility', 'M-Pesa payment issue', 'phone technical difficulties', 'internet access settings', 'data system recognition', 'app functionality fix']\n",
    "                Label: 3\n",
    "\n",
    "                16. Comment: \"Great app, great music, love the weekly custom play lists but only negative thing is the pop aps if it not a primum user\"\n",
    "                Topics / Keyphrases: ['Spotify App', 'user comments', 'music streaming', 'positive opinion', 'flaw', 'song downloading', 'user experience', 'song selection', 'Google Play Store', 'app analysis']\n",
    "                Label: 4\n",
    "\n",
    "                17. Comment: \"I love Spotify but it gets annoying when I try to add an album to a playlist, I have to go through every song and add them by hand. Other than that I find it wonderful 😊\"\n",
    "                Topics / Keyphrases: ['user experience', 'Spotify app', 'playlist customization', 'song selection', 'playback issues', 'premium membership', 'song order', 'music recommendations', 'technical problems', 'app functionality']\n",
    "                Label: 4\n",
    "\n",
    "                18. Comment: \"I may not remember the song's name so it would be good to have a function where we can just say some key words and the artist. But is amazing.\"\n",
    "                Topics / Keyphrases: ['Spotify app user experience', 'song identification and playback issues', 'offline listening limitations', 'song lyrics and information', 'playlist creation and customization', 'music preference and recommendations', 'app navigation and control', 'free version limitations', 'artist compensation and payment', 'user feedback and suggestions']\n",
    "                Label: 4\n",
    "\n",
    "                19. Comment: \"Love it! Great among quality, perfect sound for songs. My one problem is when it adds songs to your playlists. Other than that its perfect.\"\n",
    "                Topics / Keyphrases: ['Spotify app user experience', 'high quality music', 'great sound', 'songs and playlists', 'album cover concern', 'user interface issues', 'app evaluation', 'music variety', 'free version limitations', 'app improvement feedback']\n",
    "                Label: 4\n",
    "\n",
    "                20. Comment: \"This is a good music app overall but the only thing anoying is there's so much ads that say thank you for listening to Spotify it's so anoying it's like made.ti anoy people but overall best music app ever\"\n",
    "                Topics / Keyphrases: ['Spotify App', 'music service', 'podcasts', '5 stars', 'user experience', 'music discovery', 'Joe Rogan Podcast', 'Google Play Store', 'fast forward', 'self-remove artists']\n",
    "                Label: 4\n",
    "\n",
    "                21. Comment: \"SPOTIFY IS MY DAMN JAM!!! I'D PICK IT OVER ANY OTHER MUSIC APP OUT THERE ESPECIALLY NOW THAT THEY HAVE ADDED THE LYRICS TO SONGS!!! My only request is to have the option to keep ur smartphone screen awake if u have the lyrics pulled up!! Love love love you Spotify Folk!!!!\"\n",
    "                Topics / Keyphrases: ['Spotify app issues', 'trending albums refresh', 'annoying bugs', 'saving albums/playlists', 'user experience', 'music playback problems', 'app improvement requests', 'playlist limitations', 'hidden favorite tracks', 'app customization options']\n",
    "                Label: 5\n",
    "\n",
    "                22. Comment: \"The app is great i regualry listen to lots of fantastic music and premium is very good because there are no adds! So i definetley reccomend you install it!:):):):)\"\n",
    "                Topics / Keyphrases: ['Spotify App', 'user experience', 'music streaming', 'playlist', 'song selection', 'premium feature', 'app performance', 'user feedback', 'WiFi connection issue', 'AI and \n",
    "                ads']\n",
    "                Label: 5\n",
    "\n",
    "                23. Comment: \"I have this app for 8 years and counting and I cannot live without it! Spotify accompanies me everywhere I go. Thank you!\"\n",
    "                Topics / Keyphrases: ['best music streaming app', 'personalized music playlists', 'user experience', 'Spotify app usage', 'music preference', 'positive user feedback', 'app loyalty', 'Google Play Store', 'daily music listening', 'music app enhancement']\n",
    "                Label: 5\n",
    "\n",
    "                24. Comment: \"so far this is the best music app I have used rarely crash's Plays offline has a multitude of features and functions and very easy to manuver around. Thanks so much guy's and gal's for all your hard work\"\n",
    "                Topics / Keyphrases: ['Spotify app usability', 'music customization and recommendations', 'app continuity and features', 'phone usage and music streaming', 'user-friendly interactive experience', 'satisfied long-term user experience', 'convenient music listening and accessibility', 'easy-to-navigate international platform', 'music discovery and song education', 'cost-effective artist platform']\n",
    "                Label: 5\n",
    "\n",
    "                25. Comment: \"I just Love Spotify. It has every single song/music that is, was, and will be a part of my life's music repritoire. Thanks for supplying such a great array of listening pleasures, SPOTIFY!!\"\n",
    "                Topics / Keyphrases: ['Spotify as top music streaming platform', 'growing music and podcast options', 'supporting underground artists', 'Spotify for Artists', 'user preferences in audio entertainment', 'headphones usage', 'user experience', 'Spotify app features', 'user's love for Spotify Premium', 'playlist creation and song recommendations']\n",
    "                Label: 5\n",
    "\n",
    "\n",
    "                Please provide the sentiment classification as a single number (1, 2, 3, 4, or 5) and nothing more for the following comment:\n",
    "\n",
    "\n",
    "                Comment: \"{text}\"\n",
    "                Topics / Keyphrases: {topics}\n",
    "                Label: ?\n",
    "                \"\"\"\n",
    "    print(\"\\n\\n\")\n",
    "    print(string_message)\n",
    "    print(\"\\n\")\n",
    "    \n",
    "    chat_completion = client.chat.completions.create(\n",
    "        messages = [\n",
    "            {\n",
    "                \"role\": \"user\",\n",
    "                \"content\": f\"\"\"{string_message}\"\"\"\n",
    "            }\n",
    "    \n",
    "        ],\n",
    "        # model=\"llama3-8b-8192\",\n",
    "        model=\"mixtral-8x7b-32768\",\n",
    "    )\n",
    "    \n",
    "    armaz = chat_completion.choices[0].message.content\n",
    "    print(f'{index}:\\t{armaz}')\n",
    "    list.append(armaz)"
   ]
  },
  {
   "cell_type": "code",
   "execution_count": null,
   "id": "8e4116ac",
   "metadata": {},
   "outputs": [],
   "source": [
    "len(list)"
   ]
  },
  {
   "cell_type": "code",
   "execution_count": null,
   "id": "861d88d7",
   "metadata": {
    "scrolled": true
   },
   "outputs": [],
   "source": [
    "rest = train_data[len(list):]\n",
    "for index, row in rest.iterrows():\n",
    "    text = row['content']\n",
    "    topics = row['Merged keyphrases_reduced 2']\n",
    "    string_message = f\"\"\"I need you to evaluate and assess the comment along with the set of topics/keyphrases, categorizing their sentiment into one of five levels: 1 - very negative, 2 - negative, 3 - neutral, 4 - positive, 5 - very positive. Here are examples to guide your classification:\n",
    "\n",
    "\n",
    "                1. Comment: \"Terrible. I won't repeat what the other reviews have said, the continuous ads are so intrusive and time-consuming with the free version. Now that they are joining the likes of other silicone valley politics and starting to censor people, I am officially done with Spotify. I was honestly considering premium to avoid the ads, but then the censorship started.\"\n",
    "                Topics / Keyphrases: ['Spotify ads frequency increase', 'User experience with excessive ads', 'Pressure to purchase Spotify Premium', 'Comparison of ads frequency with JioSaavn', 'Ads mid-song and poor timing', 'Ads from liberal companies and censorship', 'Song search and free version limitations', 'Users compelled to premium by irritating ads', 'Alternative music apps 0with less ads', 'Improve user experience by reducing ads']\n",
    "                Label: 1\n",
    "\n",
    "                2. Comment: \"ads and limited skips are annoying. you could literally download songs from free music apps and listen to it offline, unlimited skips and choose whatever songs you want. i used Spotify for a few weeks now and i think I'll go back using Music instead of this app.\"\n",
    "                Topics / Keyphrases: ['Spotify app issues', 'song identification problems', 'music playback interruptions', 'user experience with ads', 'limited skipping in free version', 'paying for premium features', 'annoying frequency of ads', 'user frustration with restrictions', 'comparison with YouTube music', 'recommendations for improvements']\n",
    "                Label: 1\n",
    "\n",
    "                3. Comment: \"Poor music site with bad ethics. They were better in the past but the direction they went over the past 4 years is just a bad user experience. There are better music app services. Don't recommend at all.\"\n",
    "                Topics / Keyphrases: ['user experience with Spotify app', 'issue with ads during music streaming', 'negative feedback on commercials in podcasts', 'premium subscription vs. free version', 'user complaints on company values', 'limited song selection on Spotify', 'program evaluation and user opinion', 'limited interruptions as user preference', 'fairness in ad system', 'overall positive reviews with concerns']\n",
    "                Label: 1\n",
    "\n",
    "                4. Comment: \"Really glitchy lately. Just keeps stopping every 5 seconds. Then starts playing even when the app isnt open. I pay a subscription fee but am going to have to cancel. This is ridiculous now.\"\n",
    "                Topics / Keyphrases: ['Spotify app issues', 'unexpected app behavior', 'playback errors', 'subscription fee', 'app crashes', 'startup problems', 'user experience issues', 'media control problems', 'disappearing playbars and liked songs', 'developer practices critique']\n",
    "                Label: 1\n",
    "\n",
    "                5. Comment: \"Cannot login to my account at all. The app is repeatedly crashing. It sends the login link to my email, says it's valid for 4 hours but the link says it's expired. Nonsense.\"\n",
    "                Topics / Keyphrases: ['Spotify app issues', 'Login problems', 'Uninstallation difficulties', 'Download stuck', 'Offline functionality', 'Connection errors', 'User experience problems', 'Internal storage permission', 'File access issues', 'Playback interruptions']\n",
    "                Label: 1\n",
    "\n",
    "                6. Comment: \"I like the app but I wanted to mostly use it for offline purposes but ever since a few days after I downloaded my download audio kept dissapearing\"\n",
    "                Topics / Keyphrases: ['Spotify app issues', 'user experience problems', 'disappearing downloads', 'music playlist management', 'song availability', 'app freezing', 'censorship of podcasts', 'feature removal', 'unintended playlist changes', 'Spotify updates with Google Maps']\n",
    "                Label: 2\n",
    "\n",
    "                7. Comment: \"Where is my Car Mode?! You deleted it? Whyy, it was so useful, now i need to lock into phone during driving to change song.. thats stupid.\"\n",
    "                Topics / Keyphrases: ['user comment', 'Google Play Store', 'Spotify App', 'user experience', 'missing feature', 'phone use while driving', 'music playback', 'app crashes', 'last update problem', 'request for fix']\n",
    "                Label: 2\n",
    "\n",
    "                8. Comment: \"GIVE THE OPTION TO DISABLE THE VOLUME SYNC WITH SPOTIFY CONNECT FOR CHRIST SAKE!!! I have multiple Connect devices and I don't want them locked together at the same volume. THIS IS A BIG ISSUE THAT IS AN EASY FIX FOR YOU!! Listen to your (paying) users because a quick Google search shows this is a common issue. 5 stars if this petty issue is fixed.\"\n",
    "                Topics / Keyphrases: ['user control over content visibility', 'Spotify Connect volume sync issue', 'going for a drive notification complaint', 'Spotify app music playback stops', 'media bar change issues in update', 'Samsung S22 music streaming issues', 'shuffle default playlist concern', 'missing play button issue', 'pause unpause button placement complaint', 'Spotify update clear app issue']\n",
    "                Label: 2\n",
    "\n",
    "                9. Comment: \"It used to be so good, I had premium for years and i still would. But its not worth it anymore. Its super glitchy and buggy, even in premium. They tried to simplify it and 'have better used experience' but all that they did was make it bad. Please go back a version or two and keep it that way. I used to love the app\"\n",
    "                Topics / Keyphrases: ['Spotify Premium issues', 'app glitches and bugs', 'poor audio quality', 'user experience decline', 'volume control problems', 'offline playback issues', 'feature removal', 'user complaints', 'alternative music services', 'Spotify app control problems']\n",
    "                Label: 2\n",
    "\n",
    "                10. Comment: \"GREAT!app just don't like the so many apps and the constant add asking you to get Spotify premium. The other thing that annoys me is the limited skips and when I search up a song it won't let me play it it plays a playlist instead and I can't skip it all the time because I don't have anymore skips!\"\n",
    "                Topics / Keyphrases: ['Spotify app issues', 'user experience complaints', 'limited song skips', 'annoying ads', 'songs playlist mix ups', 'app instability', 'inaccurate podcast info', 'playlist starting automatically', 'song liking problem', 'user feedback']\n",
    "                Label: 2\n",
    "\n",
    "                11. Comment: \"The free accounts are ok. I get the ads but I really dont think it is great that you cannot choose what song you want to play with a free account. It is a good music streaming service though and I will recommend but they need to work on some of the free account features.\"\n",
    "                Topics / Keyphrases: ['Spotify app restrictions', 'premium subscription', 'free accounts', 'user experience', 'music streaming service', 'song limitation', 'additional cost', 'app functionality', 'offline playback issue', 'playlist navigation']\n",
    "                Label: 3\n",
    "\n",
    "                12. Comment: \"I've strong network connection but sometimes this app shows there is a network problem so that lyrics can't be load. Don't know why does it happens! And after 2 or 3 Times reboot, the app shows the lyrics, you know when you're looking for lyrics and lyrics aren't here, it ruins the mood\"\n",
    "                Topics / Keyphrases: ['Spotify app issues', 'network connection problems', 'song playback issues', 'user experience', 'media bar disappears', 'song repetition', 'liked music not playing', 'payment issues', 'party connectivity', 'confusing interface']\n",
    "                Label: 3\n",
    "\n",
    "                13. Comment: \"It has alot of good songs but there is the point that only premeum can skip ads and have free skips and they add songs of their own that they think you'll like but i hate them its a great app apart from that\"\n",
    "                Topics / Keyphrases: ['Spotify app', 'user experience', 'limited free skips', 'premium feature for ads skipping', 'songs selection', 'offensive ads', 'user complaints', 'deceitful programming', 'forced shuffle feature', 'music streaming']\n",
    "                Label: 3\n",
    "\n",
    "                14. Comment: \"The app works well and I don't mind the ads. But I think that it should have an option to play in shuffle or play in the order the songs are in; I make my playlists in the order I like them, so shuffle being the only option makes it frustrating.\"\n",
    "                Topics / Keyphrases: ['music streaming experience', 'Spotify app features', 'song customization', 'user frustration', 'playlist creation', 'song previews', '10k song limit', 'shuffle mode', 'period pad ads', 'Spotify Premium recommendation']\n",
    "                Label: 3\n",
    "\n",
    "                15. Comment: \"I've loved the app so far, the interface... organization..but I was logged out this evening and it's refusing to log me in. This is sad. Please fix it\"\n",
    "                Topics / Keyphrases: ['Spotify app login issues', 'user experience problems', 'email password recovery', 'local files playback', 'account compatibility', 'M-Pesa payment issue', 'phone technical difficulties', 'internet access settings', 'data system recognition', 'app functionality fix']\n",
    "                Label: 3\n",
    "\n",
    "                16. Comment: \"Great app, great music, love the weekly custom play lists but only negative thing is the pop aps if it not a primum user\"\n",
    "                Topics / Keyphrases: ['Spotify App', 'user comments', 'music streaming', 'positive opinion', 'flaw', 'song downloading', 'user experience', 'song selection', 'Google Play Store', 'app analysis']\n",
    "                Label: 4\n",
    "\n",
    "                17. Comment: \"I love Spotify but it gets annoying when I try to add an album to a playlist, I have to go through every song and add them by hand. Other than that I find it wonderful 😊\"\n",
    "                Topics / Keyphrases: ['user experience', 'Spotify app', 'playlist customization', 'song selection', 'playback issues', 'premium membership', 'song order', 'music recommendations', 'technical problems', 'app functionality']\n",
    "                Label: 4\n",
    "\n",
    "                18. Comment: \"I may not remember the song's name so it would be good to have a function where we can just say some key words and the artist. But is amazing.\"\n",
    "                Topics / Keyphrases: ['Spotify app user experience', 'song identification and playback issues', 'offline listening limitations', 'song lyrics and information', 'playlist creation and customization', 'music preference and recommendations', 'app navigation and control', 'free version limitations', 'artist compensation and payment', 'user feedback and suggestions']\n",
    "                Label: 4\n",
    "\n",
    "                19. Comment: \"Love it! Great among quality, perfect sound for songs. My one problem is when it adds songs to your playlists. Other than that its perfect.\"\n",
    "                Topics / Keyphrases: ['Spotify app user experience', 'high quality music', 'great sound', 'songs and playlists', 'album cover concern', 'user interface issues', 'app evaluation', 'music variety', 'free version limitations', 'app improvement feedback']\n",
    "                Label: 4\n",
    "\n",
    "                20. Comment: \"This is a good music app overall but the only thing anoying is there's so much ads that say thank you for listening to Spotify it's so anoying it's like made.ti anoy people but overall best music app ever\"\n",
    "                Topics / Keyphrases: ['Spotify App', 'music service', 'podcasts', '5 stars', 'user experience', 'music discovery', 'Joe Rogan Podcast', 'Google Play Store', 'fast forward', 'self-remove artists']\n",
    "                Label: 4\n",
    "\n",
    "                21. Comment: \"SPOTIFY IS MY DAMN JAM!!! I'D PICK IT OVER ANY OTHER MUSIC APP OUT THERE ESPECIALLY NOW THAT THEY HAVE ADDED THE LYRICS TO SONGS!!! My only request is to have the option to keep ur smartphone screen awake if u have the lyrics pulled up!! Love love love you Spotify Folk!!!!\"\n",
    "                Topics / Keyphrases: ['Spotify app issues', 'trending albums refresh', 'annoying bugs', 'saving albums/playlists', 'user experience', 'music playback problems', 'app improvement requests', 'playlist limitations', 'hidden favorite tracks', 'app customization options']\n",
    "                Label: 5\n",
    "\n",
    "                22. Comment: \"The app is great i regualry listen to lots of fantastic music and premium is very good because there are no adds! So i definetley reccomend you install it!:):):):)\"\n",
    "                Topics / Keyphrases: ['Spotify App', 'user experience', 'music streaming', 'playlist', 'song selection', 'premium feature', 'app performance', 'user feedback', 'WiFi connection issue', 'AI and \n",
    "                ads']\n",
    "                Label: 5\n",
    "\n",
    "                23. Comment: \"I have this app for 8 years and counting and I cannot live without it! Spotify accompanies me everywhere I go. Thank you!\"\n",
    "                Topics / Keyphrases: ['best music streaming app', 'personalized music playlists', 'user experience', 'Spotify app usage', 'music preference', 'positive user feedback', 'app loyalty', 'Google Play Store', 'daily music listening', 'music app enhancement']\n",
    "                Label: 5\n",
    "\n",
    "                24. Comment: \"so far this is the best music app I have used rarely crash's Plays offline has a multitude of features and functions and very easy to manuver around. Thanks so much guy's and gal's for all your hard work\"\n",
    "                Topics / Keyphrases: ['Spotify app usability', 'music customization and recommendations', 'app continuity and features', 'phone usage and music streaming', 'user-friendly interactive experience', 'satisfied long-term user experience', 'convenient music listening and accessibility', 'easy-to-navigate international platform', 'music discovery and song education', 'cost-effective artist platform']\n",
    "                Label: 5\n",
    "\n",
    "                25. Comment: \"I just Love Spotify. It has every single song/music that is, was, and will be a part of my life's music repritoire. Thanks for supplying such a great array of listening pleasures, SPOTIFY!!\"\n",
    "                Topics / Keyphrases: ['Spotify as top music streaming platform', 'growing music and podcast options', 'supporting underground artists', 'Spotify for Artists', 'user preferences in audio entertainment', 'headphones usage', 'user experience', 'Spotify app features', 'user's love for Spotify Premium', 'playlist creation and song recommendations']\n",
    "                Label: 5\n",
    "\n",
    "\n",
    "                Please provide the sentiment classification as a single number (1, 2, 3, 4, or 5) and nothing more for the following comment:\n",
    "\n",
    "\n",
    "                Comment: \"{text}\"\n",
    "                Topics / Keyphrases: {topics}\n",
    "                Label: ?\n",
    "                \"\"\"\n",
    "    print(\"\\n\\n\")\n",
    "    print(string_message)\n",
    "    print(\"\\n\")\n",
    "    \n",
    "    chat_completion = client.chat.completions.create(\n",
    "        messages = [\n",
    "            {\n",
    "                \"role\": \"user\",\n",
    "                \"content\": f\"\"\"{string_message}\"\"\"\n",
    "            }\n",
    "    \n",
    "        ],\n",
    "        # model=\"llama3-8b-8192\",\n",
    "        model=\"mixtral-8x7b-32768\",\n",
    "    )\n",
    "    \n",
    "    armaz = chat_completion.choices[0].message.content\n",
    "    print(f'{index}:\\t{armaz}')\n",
    "    list.append(armaz)"
   ]
  },
  {
   "cell_type": "code",
   "execution_count": null,
   "id": "95f2e073",
   "metadata": {},
   "outputs": [],
   "source": [
    "len(list)"
   ]
  },
  {
   "cell_type": "code",
   "execution_count": null,
   "id": "c8ac31f3",
   "metadata": {},
   "outputs": [],
   "source": [
    "# list.pop()"
   ]
  },
  {
   "cell_type": "code",
   "execution_count": null,
   "id": "4cb01ea1",
   "metadata": {},
   "outputs": [],
   "source": [
    "list"
   ]
  },
  {
   "cell_type": "code",
   "execution_count": null,
   "id": "33ac5326",
   "metadata": {},
   "outputs": [],
   "source": [
    "train_data['predictedSentiment'] = pd.Series(list)"
   ]
  },
  {
   "cell_type": "code",
   "execution_count": null,
   "id": "eab6a801",
   "metadata": {},
   "outputs": [],
   "source": [
    "train_data"
   ]
  },
  {
   "cell_type": "code",
   "execution_count": null,
   "id": "1ee6f5b2-37a9-467f-9547-0078a9fa2d92",
   "metadata": {},
   "outputs": [],
   "source": [
    "import re\n",
    "\n",
    "def contains_number(s):\n",
    "    return any(char.isdigit() for char in s)\n",
    "\n",
    "def findNumbers(string):\n",
    "    # Find all numbers in the string\n",
    "    numbers = None\n",
    "    if(contains_number(string)):\n",
    "        numbers = re.findall(r'\\d+', string)\n",
    "    else:\n",
    "        numbers = \"\"\n",
    "    \n",
    "    # Convert the numbers to integers\n",
    "    \n",
    "    numbers = [int(x) for x in numbers]\n",
    "    \n",
    "    if(len(numbers)>0):\n",
    "        x = numbers[0]-1\n",
    "    else:\n",
    "        x = -1\n",
    "    return x"
   ]
  },
  {
   "cell_type": "code",
   "execution_count": null,
   "id": "7345af7a-5900-4033-8a93-760c4fe213f3",
   "metadata": {},
   "outputs": [],
   "source": [
    "formated = train_data['predictedSentiment'].apply(findNumbers)"
   ]
  },
  {
   "cell_type": "code",
   "execution_count": null,
   "id": "a345ca9b-fabb-4b80-96e0-b80c35eadd6d",
   "metadata": {},
   "outputs": [],
   "source": [
    "train_data['predictedSentiment'] = formated"
   ]
  },
  {
   "cell_type": "code",
   "execution_count": null,
   "id": "b49172a7-64e8-4f77-b8a4-8a9162125078",
   "metadata": {
    "scrolled": true
   },
   "outputs": [],
   "source": [
    "train_data"
   ]
  },
  {
   "cell_type": "code",
   "execution_count": null,
   "id": "09c52c78-2cd1-4f8e-8e45-e15312e86971",
   "metadata": {},
   "outputs": [],
   "source": [
    "train_data.to_csv('mixtralOutput/topics/filenameSpotifyFewShotMixtral-T.csv', index=False)"
   ]
  },
  {
   "cell_type": "code",
   "execution_count": null,
   "id": "129beb56-7a49-4006-9413-b3602e063214",
   "metadata": {},
   "outputs": [],
   "source": [
    "results = pd.read_csv(\"mixtralOutput/filenameSpotifyFewShotMixtral.csv\")"
   ]
  },
  {
   "cell_type": "code",
   "execution_count": null,
   "id": "0d9302f2-6c19-4b27-97f2-4b0ae0966dc6",
   "metadata": {},
   "outputs": [],
   "source": [
    "results"
   ]
  },
  {
   "cell_type": "code",
   "execution_count": null,
   "id": "c76eb963-bfd0-4c7c-b1d0-bfe024f9fe36",
   "metadata": {},
   "outputs": [],
   "source": [
    "results['predictedSentiment'].value_counts().sort_index()"
   ]
  },
  {
   "cell_type": "code",
   "execution_count": null,
   "id": "bf0cb9d1-dd9c-4854-8419-9648282d2574",
   "metadata": {},
   "outputs": [],
   "source": [
    "filtered_df = results[results[\"predictedSentiment\"] == -1]"
   ]
  },
  {
   "cell_type": "code",
   "execution_count": null,
   "id": "d342cb98-0b35-4adc-b641-68c000caf960",
   "metadata": {},
   "outputs": [],
   "source": [
    "filtered_df"
   ]
  },
  {
   "cell_type": "code",
   "execution_count": null,
   "id": "ceb610be-3340-4575-bf27-5b5a91f19176",
   "metadata": {},
   "outputs": [],
   "source": [
    "newResults = results[results[\"predictedSentiment\"] != -1]"
   ]
  },
  {
   "cell_type": "code",
   "execution_count": null,
   "id": "626e985f-2774-4bf1-91a1-de86e1c1d57f",
   "metadata": {},
   "outputs": [],
   "source": [
    "newResults"
   ]
  },
  {
   "cell_type": "code",
   "execution_count": null,
   "id": "d2f7c927-9f0d-4c55-92fb-7cb6e1812911",
   "metadata": {},
   "outputs": [],
   "source": [
    "from matplotlib.ticker import PercentFormatter\n",
    "import matplotlib.pyplot as plt\n",
    "import seaborn as sns\n",
    "from sklearn.metrics import confusion_matrix\n",
    "\n",
    "def cm_analysis(y_true, y_pred, filename, labels, classes, ymap=None, figsize=(17,17)):\n",
    "    \"\"\"\n",
    "    Generate matrix plot of confusion matrix with pretty annotations.\n",
    "    The plot image is saved to disk.\n",
    "    args: \n",
    "      y_true:    true label of the data, with shape (nsamples,)\n",
    "      y_pred:    prediction of the data, with shape (nsamples,)\n",
    "      filename:  filename of figure file to save\n",
    "      labels:    string array, name the order of class labels in the confusion matrix.\n",
    "                 use `clf.classes_` if using scikit-learn models.\n",
    "                 with shape (nclass,).\n",
    "      classes:   aliases for the labels. String array to be shown in the cm plot.\n",
    "      ymap:      dict: any -> string, length == nclass.\n",
    "                 if not None, map the labels & ys to more understandable strings.\n",
    "                 Caution: original y_true, y_pred and labels must align.\n",
    "      figsize:   the size of the figure plotted.\n",
    "    \"\"\"\n",
    "    sns.set(font_scale=2.8)\n",
    "\n",
    "    if ymap is not None:\n",
    "        y_pred = [ymap[yi] for yi in y_pred]\n",
    "        y_true = [ymap[yi] for yi in y_true]\n",
    "        labels = [ymap[yi] for yi in labels]\n",
    "    cm = confusion_matrix(y_true, y_pred, labels=labels)\n",
    "    cm_sum = np.sum(cm, axis=1, keepdims=True)\n",
    "    cm_perc = cm / cm_sum.astype(float) * 100\n",
    "    annot = np.empty_like(cm).astype(str)\n",
    "    nrows, ncols = cm.shape\n",
    "    for i in range(nrows):\n",
    "        for j in range(ncols):\n",
    "            c = cm[i, j]\n",
    "            p = cm_perc[i, j]\n",
    "            if i == j:\n",
    "                s = cm_sum[i]\n",
    "                annot[i, j] = '%.2f%%\\n%d/%d' % (p, c, s)\n",
    "            #elif c == 0:\n",
    "            #    annot[i, j] = ''\n",
    "            else:\n",
    "                annot[i, j] = '%.2f%%\\n%d' % (p, c)\n",
    "    cm = confusion_matrix(y_true, y_pred, labels=labels, normalize='true')\n",
    "    cm = pd.DataFrame(cm, index=labels, columns=labels)\n",
    "    cm = cm * 100\n",
    "    cm.index.name = 'True Label'\n",
    "    cm.columns.name = 'Predicted Label'\n",
    "    fig, ax = plt.subplots(figsize=figsize)\n",
    "    plt.yticks(va='center')\n",
    "\n",
    "    sns.heatmap(cm, annot=annot, fmt='', ax=ax, xticklabels=classes, cbar=True, cbar_kws={'format':PercentFormatter()}, yticklabels=classes, cmap=\"Blues\")\n",
    "    plt.savefig(f'{filename}.png',  bbox_inches='tight')\n",
    "    plt.savefig(f'{filename}.svg',  bbox_inches='tight')"
   ]
  },
  {
   "cell_type": "code",
   "execution_count": null,
   "id": "5271c7ce-3c4b-4548-ac8d-1fd03dcbef9b",
   "metadata": {},
   "outputs": [],
   "source": [
    "# Generate the confusion matrix\n",
    "unique_labels = np.sort(newResults['scoreSA'].unique())\n",
    "mapping = {0: 'Very Negative (1)', 1: 'Negative (2)', 2: 'Neutral (3)', 3: 'Positive (4)', 4: 'Very Positive (5)'}\n",
    "\n",
    "# Applying mapping\n",
    "classes = [mapping[value] for value in unique_labels]"
   ]
  },
  {
   "cell_type": "code",
   "execution_count": null,
   "id": "277fc98a-f8a1-47d6-8635-81fb246dd88b",
   "metadata": {},
   "outputs": [],
   "source": [
    "cm_analysis(newResults['scoreSA'], newResults['predictedSentiment'], 'API', unique_labels, classes)"
   ]
  },
  {
   "cell_type": "code",
   "execution_count": null,
   "id": "7e56bc89-7b8e-4e9b-9d4e-c7b6fbc9eb08",
   "metadata": {},
   "outputs": [],
   "source": [
    "accuracy"
   ]
  },
  {
   "cell_type": "code",
   "execution_count": null,
   "id": "304855d2-f840-4642-9b47-cceabc664ab0",
   "metadata": {},
   "outputs": [],
   "source": [
    "balanced_accuracy = balanced_accuracy_score(results['scoreSA'], results['predictedSentiment'])"
   ]
  },
  {
   "cell_type": "code",
   "execution_count": null,
   "id": "5e69e1b1-6bd7-4c44-a9a1-79a151e749d1",
   "metadata": {},
   "outputs": [],
   "source": [
    "# Calculate accuracy for each class\n",
    "for i in range(len(unique_labels)):\n",
    "    temp = newResults[newResults[\"scoreSA\"] == i]\n",
    "    value = accuracy_score(temp['scoreSA'], temp['predictedSentiment'])\n",
    "    print(f'Label:\\t{i}\\t-\\tValue:\\t{value}')"
   ]
  },
  {
   "cell_type": "code",
   "execution_count": null,
   "id": "d5359fc4-672e-494d-9c29-1b7b5bc6742a",
   "metadata": {},
   "outputs": [],
   "source": [
    "balanced_accuracy"
   ]
  },
  {
   "cell_type": "code",
   "execution_count": null,
   "id": "7d2e2b25-67fa-46be-adfc-85e2ee0b93b8",
   "metadata": {},
   "outputs": [],
   "source": [
    "precision_ALL"
   ]
  },
  {
   "cell_type": "code",
   "execution_count": null,
   "id": "6d006bf2-44ae-4ebe-842d-9b1491ba81cd",
   "metadata": {},
   "outputs": [],
   "source": [
    "recall_ALL"
   ]
  },
  {
   "cell_type": "code",
   "execution_count": null,
   "id": "742c577e-f685-45be-91d7-aefc5c2d70e1",
   "metadata": {},
   "outputs": [],
   "source": [
    "f1_ALL"
   ]
  },
  {
   "cell_type": "code",
   "execution_count": null,
   "id": "f3e1468b-1d72-4c77-a6b2-0490cac68a5c",
   "metadata": {},
   "outputs": [],
   "source": [
    "mae_ALL"
   ]
  },
  {
   "cell_type": "code",
   "execution_count": null,
   "id": "2c7270e0-e59b-4c5f-b564-5d43ab6f947b",
   "metadata": {},
   "outputs": [],
   "source": [
    "precision"
   ]
  },
  {
   "cell_type": "code",
   "execution_count": null,
   "id": "eb5b47d4-f2a7-4ccd-8cbe-a9f694d238c4",
   "metadata": {},
   "outputs": [],
   "source": [
    "recall"
   ]
  },
  {
   "cell_type": "code",
   "execution_count": null,
   "id": "3840f501-1dc9-44b8-8a9c-58635581916d",
   "metadata": {},
   "outputs": [],
   "source": [
    "f1"
   ]
  },
  {
   "cell_type": "code",
   "execution_count": null,
   "id": "84c968bd-c651-4dae-99f5-4054572fca7d",
   "metadata": {},
   "outputs": [],
   "source": [
    "support"
   ]
  }
 ],
 "metadata": {
  "kernelspec": {
   "display_name": "Python 3 (ipykernel)",
   "language": "python",
   "name": "python3"
  },
  "language_info": {
   "codemirror_mode": {
    "name": "ipython",
    "version": 3
   },
   "file_extension": ".py",
   "mimetype": "text/x-python",
   "name": "python",
   "nbconvert_exporter": "python",
   "pygments_lexer": "ipython3",
   "version": "3.10.12"
  }
 },
 "nbformat": 4,
 "nbformat_minor": 5
}
